{
  "cells": [
    {
      "cell_type": "code",
      "execution_count": 67,
      "metadata": {
        "id": "igMyGnjE9hEp"
      },
      "outputs": [],
      "source": [
        "import csv\n",
        "\n",
        "import numpy as np\n",
        "import tensorflow as tf\n",
        "from sklearn.model_selection import train_test_split\n",
        "\n",
        "RANDOM_SEED = 42"
      ]
    },
    {
      "cell_type": "markdown",
      "metadata": {
        "id": "t2HDvhIu9hEr"
      },
      "source": [
        "# Specify each path"
      ]
    },
    {
      "cell_type": "code",
      "execution_count": 68,
      "metadata": {
        "id": "9NvZP2Zn9hEy"
      },
      "outputs": [],
      "source": [
        "dataset = 'model/keypoint_classifier/keypoint.csv'\n",
        "model_save_path = 'model/keypoint_classifier/keypoint_classifier.hdf5'\n",
        "tflite_save_path = 'model/keypoint_classifier/keypoint_classifier.tflite'"
      ]
    },
    {
      "cell_type": "markdown",
      "metadata": {
        "id": "s5oMH7x19hEz"
      },
      "source": [
        "# Set number of classes"
      ]
    },
    {
      "cell_type": "code",
      "execution_count": 69,
      "metadata": {
        "id": "du4kodXL9hEz"
      },
      "outputs": [],
      "source": [
        "NUM_CLASSES = 30"
      ]
    },
    {
      "cell_type": "markdown",
      "metadata": {
        "id": "XjnL0uso9hEz"
      },
      "source": [
        "# Dataset reading"
      ]
    },
    {
      "cell_type": "code",
      "execution_count": 70,
      "metadata": {
        "id": "QT5ZqtEz9hE0"
      },
      "outputs": [],
      "source": [
        "X_dataset = np.loadtxt(dataset, delimiter=',', dtype='float32', usecols=list(range(1, (21 * 2) + 1)))"
      ]
    },
    {
      "cell_type": "code",
      "execution_count": 71,
      "metadata": {
        "id": "QmoKFsp49hE0"
      },
      "outputs": [],
      "source": [
        "y_dataset = np.loadtxt(dataset, delimiter=',', dtype='int32', usecols=(0))"
      ]
    },
    {
      "cell_type": "code",
      "execution_count": 72,
      "metadata": {
        "id": "xQU7JTZ_9hE0"
      },
      "outputs": [],
      "source": [
        "X_train, X_test, y_train, y_test = train_test_split(X_dataset, y_dataset, train_size=0.75, random_state=RANDOM_SEED)"
      ]
    },
    {
      "cell_type": "markdown",
      "metadata": {
        "id": "mxK_lETT9hE0"
      },
      "source": [
        "# Model building"
      ]
    },
    {
      "cell_type": "code",
      "execution_count": 73,
      "metadata": {
        "id": "vHBmUf1t9hE1"
      },
      "outputs": [],
      "source": [
        "model = tf.keras.models.Sequential([\n",
        "    tf.keras.layers.Input((21 * 2, )),\n",
        "    tf.keras.layers.Dropout(0.2),\n",
        "    tf.keras.layers.Dense(20, activation='relu'),\n",
        "    tf.keras.layers.Dropout(0.4),\n",
        "    tf.keras.layers.Dense(10, activation='relu'),\n",
        "    tf.keras.layers.Dense(NUM_CLASSES, activation='softmax')\n",
        "])"
      ]
    },
    {
      "cell_type": "code",
      "execution_count": 74,
      "metadata": {
        "colab": {
          "base_uri": "https://localhost:8080/"
        },
        "id": "ypqky9tc9hE1",
        "outputId": "5db082bb-30e3-4110-bf63-a1ee777ecd46"
      },
      "outputs": [
        {
          "name": "stdout",
          "output_type": "stream",
          "text": [
            "Model: \"sequential_3\"\n",
            "_________________________________________________________________\n",
            " Layer (type)                Output Shape              Param #   \n",
            "=================================================================\n",
            " dropout_6 (Dropout)         (None, 42)                0         \n",
            "                                                                 \n",
            " dense_9 (Dense)             (None, 20)                860       \n",
            "                                                                 \n",
            " dropout_7 (Dropout)         (None, 20)                0         \n",
            "                                                                 \n",
            " dense_10 (Dense)            (None, 10)                210       \n",
            "                                                                 \n",
            " dense_11 (Dense)            (None, 30)                330       \n",
            "                                                                 \n",
            "=================================================================\n",
            "Total params: 1,400\n",
            "Trainable params: 1,400\n",
            "Non-trainable params: 0\n",
            "_________________________________________________________________\n"
          ]
        }
      ],
      "source": [
        "model.summary()  # tf.keras.utils.plot_model(model, show_shapes=True)"
      ]
    },
    {
      "cell_type": "code",
      "execution_count": 75,
      "metadata": {
        "id": "MbMjOflQ9hE1"
      },
      "outputs": [],
      "source": [
        "# Model checkpoint callback\n",
        "cp_callback = tf.keras.callbacks.ModelCheckpoint(\n",
        "    model_save_path, verbose=1, save_weights_only=False)\n",
        "# Callback for early stopping\n",
        "es_callback = tf.keras.callbacks.EarlyStopping(patience=20, verbose=1)"
      ]
    },
    {
      "cell_type": "code",
      "execution_count": 76,
      "metadata": {
        "id": "c3Dac0M_9hE2"
      },
      "outputs": [],
      "source": [
        "# Model compilation\n",
        "model.compile(\n",
        "    optimizer='adam',\n",
        "    loss='sparse_categorical_crossentropy',\n",
        "    metrics=['accuracy']\n",
        ")"
      ]
    },
    {
      "cell_type": "markdown",
      "metadata": {
        "id": "7XI0j1Iu9hE2"
      },
      "source": [
        "# Model training"
      ]
    },
    {
      "cell_type": "code",
      "execution_count": 77,
      "metadata": {
        "colab": {
          "base_uri": "https://localhost:8080/"
        },
        "id": "WirBl-JE9hE3",
        "outputId": "71b30ca2-8294-4d9d-8aa2-800d90d399de",
        "scrolled": true
      },
      "outputs": [
        {
          "name": "stdout",
          "output_type": "stream",
          "text": [
            "Epoch 1/1000\n",
            "54/62 [=========================>....] - ETA: 0s - loss: 3.3968 - accuracy: 0.0422\n",
            "Epoch 1: saving model to model/keypoint_classifier/keypoint_classifier.hdf5\n",
            "62/62 [==============================] - 2s 13ms/step - loss: 3.3912 - accuracy: 0.0446 - val_loss: 3.3351 - val_accuracy: 0.0670\n",
            "Epoch 2/1000\n",
            "60/62 [============================>.] - ETA: 0s - loss: 3.2948 - accuracy: 0.0824\n",
            "Epoch 2: saving model to model/keypoint_classifier/keypoint_classifier.hdf5\n",
            "62/62 [==============================] - 1s 8ms/step - loss: 3.2914 - accuracy: 0.0833 - val_loss: 3.1821 - val_accuracy: 0.0799\n",
            "Epoch 3/1000\n",
            "57/62 [==========================>...] - ETA: 0s - loss: 3.1616 - accuracy: 0.0992\n",
            "Epoch 3: saving model to model/keypoint_classifier/keypoint_classifier.hdf5\n",
            "62/62 [==============================] - 1s 8ms/step - loss: 3.1524 - accuracy: 0.1011 - val_loss: 3.0081 - val_accuracy: 0.1553\n",
            "Epoch 4/1000\n",
            "55/62 [=========================>....] - ETA: 0s - loss: 3.0278 - accuracy: 0.1300\n",
            "Epoch 4: saving model to model/keypoint_classifier/keypoint_classifier.hdf5\n",
            "62/62 [==============================] - 1s 8ms/step - loss: 3.0212 - accuracy: 0.1336 - val_loss: 2.8428 - val_accuracy: 0.1795\n",
            "Epoch 5/1000\n",
            "60/62 [============================>.] - ETA: 0s - loss: 2.8921 - accuracy: 0.1625\n",
            "Epoch 5: saving model to model/keypoint_classifier/keypoint_classifier.hdf5\n",
            "62/62 [==============================] - 1s 8ms/step - loss: 2.8920 - accuracy: 0.1626 - val_loss: 2.6845 - val_accuracy: 0.2117\n",
            "Epoch 6/1000\n",
            "60/62 [============================>.] - ETA: 0s - loss: 2.7624 - accuracy: 0.1900\n",
            "Epoch 6: saving model to model/keypoint_classifier/keypoint_classifier.hdf5\n",
            "62/62 [==============================] - 0s 8ms/step - loss: 2.7584 - accuracy: 0.1909 - val_loss: 2.5054 - val_accuracy: 0.2996\n",
            "Epoch 7/1000\n",
            "53/62 [========================>.....] - ETA: 0s - loss: 2.6605 - accuracy: 0.2090\n",
            "Epoch 7: saving model to model/keypoint_classifier/keypoint_classifier.hdf5\n",
            "62/62 [==============================] - 0s 8ms/step - loss: 2.6547 - accuracy: 0.2105 - val_loss: 2.3464 - val_accuracy: 0.3348\n",
            "Epoch 8/1000\n",
            "60/62 [============================>.] - ETA: 0s - loss: 2.5478 - accuracy: 0.2302\n",
            "Epoch 8: saving model to model/keypoint_classifier/keypoint_classifier.hdf5\n",
            "62/62 [==============================] - 1s 9ms/step - loss: 2.5462 - accuracy: 0.2296 - val_loss: 2.1949 - val_accuracy: 0.3735\n",
            "Epoch 9/1000\n",
            "61/62 [============================>.] - ETA: 0s - loss: 2.4471 - accuracy: 0.2546\n",
            "Epoch 9: saving model to model/keypoint_classifier/keypoint_classifier.hdf5\n",
            "62/62 [==============================] - 1s 9ms/step - loss: 2.4463 - accuracy: 0.2547 - val_loss: 2.0523 - val_accuracy: 0.4000\n",
            "Epoch 10/1000\n",
            "62/62 [==============================] - ETA: 0s - loss: 2.3827 - accuracy: 0.2611\n",
            "Epoch 10: saving model to model/keypoint_classifier/keypoint_classifier.hdf5\n",
            "62/62 [==============================] - 1s 9ms/step - loss: 2.3827 - accuracy: 0.2611 - val_loss: 1.9494 - val_accuracy: 0.4489\n",
            "Epoch 11/1000\n",
            "59/62 [===========================>..] - ETA: 0s - loss: 2.3290 - accuracy: 0.2704\n",
            "Epoch 11: saving model to model/keypoint_classifier/keypoint_classifier.hdf5\n",
            "62/62 [==============================] - 1s 8ms/step - loss: 2.3323 - accuracy: 0.2690 - val_loss: 1.8617 - val_accuracy: 0.4564\n",
            "Epoch 12/1000\n",
            "55/62 [=========================>....] - ETA: 0s - loss: 2.2912 - accuracy: 0.2810\n",
            "Epoch 12: saving model to model/keypoint_classifier/keypoint_classifier.hdf5\n",
            "62/62 [==============================] - 1s 8ms/step - loss: 2.2883 - accuracy: 0.2810 - val_loss: 1.7875 - val_accuracy: 0.4822\n",
            "Epoch 13/1000\n",
            "59/62 [===========================>..] - ETA: 0s - loss: 2.2267 - accuracy: 0.2897\n",
            "Epoch 13: saving model to model/keypoint_classifier/keypoint_classifier.hdf5\n",
            "62/62 [==============================] - 0s 8ms/step - loss: 2.2321 - accuracy: 0.2885 - val_loss: 1.7287 - val_accuracy: 0.4890\n",
            "Epoch 14/1000\n",
            "57/62 [==========================>...] - ETA: 0s - loss: 2.2031 - accuracy: 0.2958\n",
            "Epoch 14: saving model to model/keypoint_classifier/keypoint_classifier.hdf5\n",
            "62/62 [==============================] - 1s 8ms/step - loss: 2.2001 - accuracy: 0.2965 - val_loss: 1.6706 - val_accuracy: 0.5133\n",
            "Epoch 15/1000\n",
            "60/62 [============================>.] - ETA: 0s - loss: 2.1667 - accuracy: 0.3056\n",
            "Epoch 15: saving model to model/keypoint_classifier/keypoint_classifier.hdf5\n",
            "62/62 [==============================] - 0s 8ms/step - loss: 2.1647 - accuracy: 0.3051 - val_loss: 1.6303 - val_accuracy: 0.4617\n",
            "Epoch 16/1000\n",
            "58/62 [===========================>..] - ETA: 0s - loss: 2.1253 - accuracy: 0.3178\n",
            "Epoch 16: saving model to model/keypoint_classifier/keypoint_classifier.hdf5\n",
            "62/62 [==============================] - 1s 8ms/step - loss: 2.1279 - accuracy: 0.3163 - val_loss: 1.5917 - val_accuracy: 0.5284\n",
            "Epoch 17/1000\n",
            "56/62 [==========================>...] - ETA: 0s - loss: 2.1083 - accuracy: 0.3184\n",
            "Epoch 17: saving model to model/keypoint_classifier/keypoint_classifier.hdf5\n",
            "62/62 [==============================] - 1s 8ms/step - loss: 2.1115 - accuracy: 0.3167 - val_loss: 1.5665 - val_accuracy: 0.5322\n",
            "Epoch 18/1000\n",
            "60/62 [============================>.] - ETA: 0s - loss: 2.0987 - accuracy: 0.3190\n",
            "Epoch 18: saving model to model/keypoint_classifier/keypoint_classifier.hdf5\n",
            "62/62 [==============================] - 1s 8ms/step - loss: 2.0987 - accuracy: 0.3185 - val_loss: 1.5378 - val_accuracy: 0.5693\n",
            "Epoch 19/1000\n",
            "57/62 [==========================>...] - ETA: 0s - loss: 2.1014 - accuracy: 0.3177\n",
            "Epoch 19: saving model to model/keypoint_classifier/keypoint_classifier.hdf5\n",
            "62/62 [==============================] - 1s 14ms/step - loss: 2.0933 - accuracy: 0.3197 - val_loss: 1.5226 - val_accuracy: 0.5424\n",
            "Epoch 20/1000\n",
            "56/62 [==========================>...] - ETA: 0s - loss: 2.0735 - accuracy: 0.3273\n",
            "Epoch 20: saving model to model/keypoint_classifier/keypoint_classifier.hdf5\n",
            "62/62 [==============================] - 0s 7ms/step - loss: 2.0701 - accuracy: 0.3286 - val_loss: 1.4874 - val_accuracy: 0.5583\n",
            "Epoch 21/1000\n",
            "61/62 [============================>.] - ETA: 0s - loss: 2.0404 - accuracy: 0.3251\n",
            "Epoch 21: saving model to model/keypoint_classifier/keypoint_classifier.hdf5\n",
            "62/62 [==============================] - 0s 8ms/step - loss: 2.0410 - accuracy: 0.3244 - val_loss: 1.4667 - val_accuracy: 0.5610\n",
            "Epoch 22/1000\n",
            "54/62 [=========================>....] - ETA: 0s - loss: 2.0207 - accuracy: 0.3330\n",
            "Epoch 22: saving model to model/keypoint_classifier/keypoint_classifier.hdf5\n",
            "62/62 [==============================] - 0s 8ms/step - loss: 2.0245 - accuracy: 0.3344 - val_loss: 1.4499 - val_accuracy: 0.5867\n",
            "Epoch 23/1000\n",
            "58/62 [===========================>..] - ETA: 0s - loss: 2.0157 - accuracy: 0.3401\n",
            "Epoch 23: saving model to model/keypoint_classifier/keypoint_classifier.hdf5\n",
            "62/62 [==============================] - 1s 10ms/step - loss: 2.0160 - accuracy: 0.3388 - val_loss: 1.4322 - val_accuracy: 0.5731\n",
            "Epoch 24/1000\n",
            "60/62 [============================>.] - ETA: 0s - loss: 2.0123 - accuracy: 0.3374\n",
            "Epoch 24: saving model to model/keypoint_classifier/keypoint_classifier.hdf5\n",
            "62/62 [==============================] - 1s 10ms/step - loss: 2.0088 - accuracy: 0.3375 - val_loss: 1.4064 - val_accuracy: 0.6409\n",
            "Epoch 25/1000\n",
            "61/62 [============================>.] - ETA: 0s - loss: 1.9856 - accuracy: 0.3423\n",
            "Epoch 25: saving model to model/keypoint_classifier/keypoint_classifier.hdf5\n",
            "62/62 [==============================] - 1s 12ms/step - loss: 1.9849 - accuracy: 0.3428 - val_loss: 1.3799 - val_accuracy: 0.6167\n",
            "Epoch 26/1000\n",
            "59/62 [===========================>..] - ETA: 0s - loss: 1.9513 - accuracy: 0.3594\n",
            "Epoch 26: saving model to model/keypoint_classifier/keypoint_classifier.hdf5\n",
            "62/62 [==============================] - 1s 9ms/step - loss: 1.9502 - accuracy: 0.3600 - val_loss: 1.3653 - val_accuracy: 0.6136\n",
            "Epoch 27/1000\n",
            "59/62 [===========================>..] - ETA: 0s - loss: 1.9606 - accuracy: 0.3550\n",
            "Epoch 27: saving model to model/keypoint_classifier/keypoint_classifier.hdf5\n",
            "62/62 [==============================] - 1s 9ms/step - loss: 1.9587 - accuracy: 0.3545 - val_loss: 1.3551 - val_accuracy: 0.6530\n",
            "Epoch 28/1000\n",
            "53/62 [========================>.....] - ETA: 0s - loss: 1.9409 - accuracy: 0.3542\n",
            "Epoch 28: saving model to model/keypoint_classifier/keypoint_classifier.hdf5\n",
            "62/62 [==============================] - 1s 9ms/step - loss: 1.9469 - accuracy: 0.3542 - val_loss: 1.3345 - val_accuracy: 0.6462\n",
            "Epoch 29/1000\n",
            "60/62 [============================>.] - ETA: 0s - loss: 1.9333 - accuracy: 0.3504\n",
            "Epoch 29: saving model to model/keypoint_classifier/keypoint_classifier.hdf5\n",
            "62/62 [==============================] - 0s 8ms/step - loss: 1.9366 - accuracy: 0.3493 - val_loss: 1.3073 - val_accuracy: 0.6652\n",
            "Epoch 30/1000\n",
            "57/62 [==========================>...] - ETA: 0s - loss: 1.9198 - accuracy: 0.3664\n",
            "Epoch 30: saving model to model/keypoint_classifier/keypoint_classifier.hdf5\n",
            "62/62 [==============================] - 1s 8ms/step - loss: 1.9192 - accuracy: 0.3655 - val_loss: 1.3047 - val_accuracy: 0.6534\n",
            "Epoch 31/1000\n",
            "52/62 [========================>.....] - ETA: 0s - loss: 1.9119 - accuracy: 0.3648\n",
            "Epoch 31: saving model to model/keypoint_classifier/keypoint_classifier.hdf5\n",
            "62/62 [==============================] - 0s 7ms/step - loss: 1.9118 - accuracy: 0.3639 - val_loss: 1.2879 - val_accuracy: 0.6705\n",
            "Epoch 32/1000\n",
            "56/62 [==========================>...] - ETA: 0s - loss: 1.9187 - accuracy: 0.3573\n",
            "Epoch 32: saving model to model/keypoint_classifier/keypoint_classifier.hdf5\n",
            "62/62 [==============================] - 1s 8ms/step - loss: 1.9123 - accuracy: 0.3593 - val_loss: 1.2908 - val_accuracy: 0.6902\n",
            "Epoch 33/1000\n",
            "61/62 [============================>.] - ETA: 0s - loss: 1.9075 - accuracy: 0.3649\n",
            "Epoch 33: saving model to model/keypoint_classifier/keypoint_classifier.hdf5\n",
            "62/62 [==============================] - 0s 8ms/step - loss: 1.9058 - accuracy: 0.3656 - val_loss: 1.2785 - val_accuracy: 0.6530\n",
            "Epoch 34/1000\n",
            "58/62 [===========================>..] - ETA: 0s - loss: 1.8904 - accuracy: 0.3650\n",
            "Epoch 34: saving model to model/keypoint_classifier/keypoint_classifier.hdf5\n",
            "62/62 [==============================] - 1s 8ms/step - loss: 1.8867 - accuracy: 0.3655 - val_loss: 1.2541 - val_accuracy: 0.6992\n",
            "Epoch 35/1000\n",
            "56/62 [==========================>...] - ETA: 0s - loss: 1.8854 - accuracy: 0.3729\n",
            "Epoch 35: saving model to model/keypoint_classifier/keypoint_classifier.hdf5\n",
            "62/62 [==============================] - 0s 7ms/step - loss: 1.8873 - accuracy: 0.3729 - val_loss: 1.2533 - val_accuracy: 0.6879\n",
            "Epoch 36/1000\n",
            "59/62 [===========================>..] - ETA: 0s - loss: 1.8730 - accuracy: 0.3767\n",
            "Epoch 36: saving model to model/keypoint_classifier/keypoint_classifier.hdf5\n",
            "62/62 [==============================] - 0s 8ms/step - loss: 1.8775 - accuracy: 0.3757 - val_loss: 1.2499 - val_accuracy: 0.6792\n",
            "Epoch 37/1000\n",
            "51/62 [=======================>......] - ETA: 0s - loss: 1.8663 - accuracy: 0.3782\n",
            "Epoch 37: saving model to model/keypoint_classifier/keypoint_classifier.hdf5\n",
            "62/62 [==============================] - 1s 9ms/step - loss: 1.8624 - accuracy: 0.3810 - val_loss: 1.2256 - val_accuracy: 0.7091\n",
            "Epoch 38/1000\n",
            "54/62 [=========================>....] - ETA: 0s - loss: 1.8755 - accuracy: 0.3789\n",
            "Epoch 38: saving model to model/keypoint_classifier/keypoint_classifier.hdf5\n",
            "62/62 [==============================] - 0s 7ms/step - loss: 1.8676 - accuracy: 0.3817 - val_loss: 1.2221 - val_accuracy: 0.7000\n",
            "Epoch 39/1000\n",
            "52/62 [========================>.....] - ETA: 0s - loss: 1.8510 - accuracy: 0.3803\n",
            "Epoch 39: saving model to model/keypoint_classifier/keypoint_classifier.hdf5\n",
            "62/62 [==============================] - 0s 8ms/step - loss: 1.8531 - accuracy: 0.3806 - val_loss: 1.2057 - val_accuracy: 0.7193\n",
            "Epoch 40/1000\n",
            "52/62 [========================>.....] - ETA: 0s - loss: 1.8340 - accuracy: 0.3860\n",
            "Epoch 40: saving model to model/keypoint_classifier/keypoint_classifier.hdf5\n",
            "62/62 [==============================] - 1s 8ms/step - loss: 1.8402 - accuracy: 0.3828 - val_loss: 1.1950 - val_accuracy: 0.6970\n",
            "Epoch 41/1000\n",
            "59/62 [===========================>..] - ETA: 0s - loss: 1.8194 - accuracy: 0.3909\n",
            "Epoch 41: saving model to model/keypoint_classifier/keypoint_classifier.hdf5\n",
            "62/62 [==============================] - 1s 13ms/step - loss: 1.8215 - accuracy: 0.3899 - val_loss: 1.1906 - val_accuracy: 0.7364\n",
            "Epoch 42/1000\n",
            "56/62 [==========================>...] - ETA: 0s - loss: 1.8198 - accuracy: 0.3888\n",
            "Epoch 42: saving model to model/keypoint_classifier/keypoint_classifier.hdf5\n",
            "62/62 [==============================] - 1s 15ms/step - loss: 1.8243 - accuracy: 0.3896 - val_loss: 1.1735 - val_accuracy: 0.7330\n",
            "Epoch 43/1000\n",
            "57/62 [==========================>...] - ETA: 0s - loss: 1.8245 - accuracy: 0.3939\n",
            "Epoch 43: saving model to model/keypoint_classifier/keypoint_classifier.hdf5\n",
            "62/62 [==============================] - 1s 13ms/step - loss: 1.8266 - accuracy: 0.3936 - val_loss: 1.1779 - val_accuracy: 0.7591\n",
            "Epoch 44/1000\n",
            "62/62 [==============================] - ETA: 0s - loss: 1.8022 - accuracy: 0.3998\n",
            "Epoch 44: saving model to model/keypoint_classifier/keypoint_classifier.hdf5\n",
            "62/62 [==============================] - 1s 14ms/step - loss: 1.8022 - accuracy: 0.3998 - val_loss: 1.1460 - val_accuracy: 0.7299\n",
            "Epoch 45/1000\n",
            "56/62 [==========================>...] - ETA: 0s - loss: 1.7930 - accuracy: 0.3954\n",
            "Epoch 45: saving model to model/keypoint_classifier/keypoint_classifier.hdf5\n",
            "62/62 [==============================] - 1s 19ms/step - loss: 1.7952 - accuracy: 0.3945 - val_loss: 1.1553 - val_accuracy: 0.7189\n",
            "Epoch 46/1000\n",
            "60/62 [============================>.] - ETA: 0s - loss: 1.8052 - accuracy: 0.3919\n",
            "Epoch 46: saving model to model/keypoint_classifier/keypoint_classifier.hdf5\n",
            "62/62 [==============================] - 1s 14ms/step - loss: 1.8034 - accuracy: 0.3922 - val_loss: 1.1451 - val_accuracy: 0.7595\n",
            "Epoch 47/1000\n",
            "55/62 [=========================>....] - ETA: 0s - loss: 1.7881 - accuracy: 0.3962\n",
            "Epoch 47: saving model to model/keypoint_classifier/keypoint_classifier.hdf5\n",
            "62/62 [==============================] - 1s 15ms/step - loss: 1.7974 - accuracy: 0.3920 - val_loss: 1.1362 - val_accuracy: 0.7398\n",
            "Epoch 48/1000\n",
            "59/62 [===========================>..] - ETA: 0s - loss: 1.7742 - accuracy: 0.4036\n",
            "Epoch 48: saving model to model/keypoint_classifier/keypoint_classifier.hdf5\n",
            "62/62 [==============================] - 1s 10ms/step - loss: 1.7738 - accuracy: 0.4036 - val_loss: 1.1248 - val_accuracy: 0.7788\n",
            "Epoch 49/1000\n",
            "55/62 [=========================>....] - ETA: 0s - loss: 1.7900 - accuracy: 0.3979\n",
            "Epoch 49: saving model to model/keypoint_classifier/keypoint_classifier.hdf5\n",
            "62/62 [==============================] - 1s 12ms/step - loss: 1.7823 - accuracy: 0.4002 - val_loss: 1.1173 - val_accuracy: 0.7348\n",
            "Epoch 50/1000\n",
            "59/62 [===========================>..] - ETA: 0s - loss: 1.7689 - accuracy: 0.4059\n",
            "Epoch 50: saving model to model/keypoint_classifier/keypoint_classifier.hdf5\n",
            "62/62 [==============================] - 1s 17ms/step - loss: 1.7668 - accuracy: 0.4059 - val_loss: 1.0927 - val_accuracy: 0.7629\n",
            "Epoch 51/1000\n",
            "55/62 [=========================>....] - ETA: 0s - loss: 1.7769 - accuracy: 0.4105\n",
            "Epoch 51: saving model to model/keypoint_classifier/keypoint_classifier.hdf5\n",
            "62/62 [==============================] - 1s 14ms/step - loss: 1.7843 - accuracy: 0.4079 - val_loss: 1.1018 - val_accuracy: 0.7557\n",
            "Epoch 52/1000\n",
            "60/62 [============================>.] - ETA: 0s - loss: 1.7465 - accuracy: 0.4143\n",
            "Epoch 52: saving model to model/keypoint_classifier/keypoint_classifier.hdf5\n",
            "62/62 [==============================] - 1s 12ms/step - loss: 1.7440 - accuracy: 0.4151 - val_loss: 1.0834 - val_accuracy: 0.7447\n",
            "Epoch 53/1000\n",
            "56/62 [==========================>...] - ETA: 0s - loss: 1.7701 - accuracy: 0.4089\n",
            "Epoch 53: saving model to model/keypoint_classifier/keypoint_classifier.hdf5\n",
            "62/62 [==============================] - 1s 12ms/step - loss: 1.7634 - accuracy: 0.4103 - val_loss: 1.0880 - val_accuracy: 0.7633\n",
            "Epoch 54/1000\n",
            "60/62 [============================>.] - ETA: 0s - loss: 1.7378 - accuracy: 0.4184\n",
            "Epoch 54: saving model to model/keypoint_classifier/keypoint_classifier.hdf5\n",
            "62/62 [==============================] - 1s 11ms/step - loss: 1.7375 - accuracy: 0.4182 - val_loss: 1.0695 - val_accuracy: 0.7557\n",
            "Epoch 55/1000\n",
            "59/62 [===========================>..] - ETA: 0s - loss: 1.7327 - accuracy: 0.4243\n",
            "Epoch 55: saving model to model/keypoint_classifier/keypoint_classifier.hdf5\n",
            "62/62 [==============================] - 1s 12ms/step - loss: 1.7366 - accuracy: 0.4233 - val_loss: 1.0621 - val_accuracy: 0.7580\n",
            "Epoch 56/1000\n",
            "56/62 [==========================>...] - ETA: 0s - loss: 1.7469 - accuracy: 0.4219\n",
            "Epoch 56: saving model to model/keypoint_classifier/keypoint_classifier.hdf5\n",
            "62/62 [==============================] - 1s 11ms/step - loss: 1.7517 - accuracy: 0.4209 - val_loss: 1.0680 - val_accuracy: 0.7761\n",
            "Epoch 57/1000\n",
            "56/62 [==========================>...] - ETA: 0s - loss: 1.7249 - accuracy: 0.4240\n",
            "Epoch 57: saving model to model/keypoint_classifier/keypoint_classifier.hdf5\n",
            "62/62 [==============================] - 1s 12ms/step - loss: 1.7267 - accuracy: 0.4243 - val_loss: 1.0683 - val_accuracy: 0.7716\n",
            "Epoch 58/1000\n",
            "55/62 [=========================>....] - ETA: 0s - loss: 1.7074 - accuracy: 0.4223\n",
            "Epoch 58: saving model to model/keypoint_classifier/keypoint_classifier.hdf5\n",
            "62/62 [==============================] - 1s 11ms/step - loss: 1.7099 - accuracy: 0.4206 - val_loss: 1.0469 - val_accuracy: 0.7587\n",
            "Epoch 59/1000\n",
            "55/62 [=========================>....] - ETA: 0s - loss: 1.7032 - accuracy: 0.4290\n",
            "Epoch 59: saving model to model/keypoint_classifier/keypoint_classifier.hdf5\n",
            "62/62 [==============================] - 1s 13ms/step - loss: 1.7106 - accuracy: 0.4269 - val_loss: 1.0327 - val_accuracy: 0.7917\n",
            "Epoch 60/1000\n",
            "59/62 [===========================>..] - ETA: 0s - loss: 1.6959 - accuracy: 0.4256\n",
            "Epoch 60: saving model to model/keypoint_classifier/keypoint_classifier.hdf5\n",
            "62/62 [==============================] - 1s 12ms/step - loss: 1.6980 - accuracy: 0.4257 - val_loss: 1.0227 - val_accuracy: 0.7992\n",
            "Epoch 61/1000\n",
            "57/62 [==========================>...] - ETA: 0s - loss: 1.6922 - accuracy: 0.4272\n",
            "Epoch 61: saving model to model/keypoint_classifier/keypoint_classifier.hdf5\n",
            "62/62 [==============================] - 1s 12ms/step - loss: 1.6968 - accuracy: 0.4278 - val_loss: 1.0176 - val_accuracy: 0.8068\n",
            "Epoch 62/1000\n",
            "58/62 [===========================>..] - ETA: 0s - loss: 1.6935 - accuracy: 0.4238\n",
            "Epoch 62: saving model to model/keypoint_classifier/keypoint_classifier.hdf5\n",
            "62/62 [==============================] - 1s 14ms/step - loss: 1.7001 - accuracy: 0.4219 - val_loss: 1.0137 - val_accuracy: 0.7818\n",
            "Epoch 63/1000\n",
            "53/62 [========================>.....] - ETA: 0s - loss: 1.7068 - accuracy: 0.4236\n",
            "Epoch 63: saving model to model/keypoint_classifier/keypoint_classifier.hdf5\n",
            "62/62 [==============================] - 1s 11ms/step - loss: 1.7048 - accuracy: 0.4257 - val_loss: 1.0206 - val_accuracy: 0.7731\n",
            "Epoch 64/1000\n",
            "62/62 [==============================] - ETA: 0s - loss: 1.6765 - accuracy: 0.4296\n",
            "Epoch 64: saving model to model/keypoint_classifier/keypoint_classifier.hdf5\n",
            "62/62 [==============================] - 1s 17ms/step - loss: 1.6765 - accuracy: 0.4296 - val_loss: 0.9984 - val_accuracy: 0.7909\n",
            "Epoch 65/1000\n",
            "55/62 [=========================>....] - ETA: 0s - loss: 1.6732 - accuracy: 0.4357\n",
            "Epoch 65: saving model to model/keypoint_classifier/keypoint_classifier.hdf5\n",
            "62/62 [==============================] - 1s 14ms/step - loss: 1.6744 - accuracy: 0.4349 - val_loss: 0.9946 - val_accuracy: 0.7932\n",
            "Epoch 66/1000\n",
            "58/62 [===========================>..] - ETA: 0s - loss: 1.6627 - accuracy: 0.4343\n",
            "Epoch 66: saving model to model/keypoint_classifier/keypoint_classifier.hdf5\n",
            "62/62 [==============================] - 1s 15ms/step - loss: 1.6647 - accuracy: 0.4324 - val_loss: 0.9803 - val_accuracy: 0.8242\n",
            "Epoch 67/1000\n",
            "58/62 [===========================>..] - ETA: 0s - loss: 1.6796 - accuracy: 0.4337\n",
            "Epoch 67: saving model to model/keypoint_classifier/keypoint_classifier.hdf5\n",
            "62/62 [==============================] - 1s 11ms/step - loss: 1.6803 - accuracy: 0.4336 - val_loss: 0.9990 - val_accuracy: 0.7848\n",
            "Epoch 68/1000\n",
            "59/62 [===========================>..] - ETA: 0s - loss: 1.6801 - accuracy: 0.4358\n",
            "Epoch 68: saving model to model/keypoint_classifier/keypoint_classifier.hdf5\n",
            "62/62 [==============================] - 1s 11ms/step - loss: 1.6779 - accuracy: 0.4368 - val_loss: 0.9906 - val_accuracy: 0.7970\n",
            "Epoch 69/1000\n",
            "61/62 [============================>.] - ETA: 0s - loss: 1.6579 - accuracy: 0.4343\n",
            "Epoch 69: saving model to model/keypoint_classifier/keypoint_classifier.hdf5\n",
            "62/62 [==============================] - 1s 11ms/step - loss: 1.6573 - accuracy: 0.4343 - val_loss: 0.9705 - val_accuracy: 0.7936\n",
            "Epoch 70/1000\n",
            "62/62 [==============================] - ETA: 0s - loss: 1.6625 - accuracy: 0.4402\n",
            "Epoch 70: saving model to model/keypoint_classifier/keypoint_classifier.hdf5\n",
            "62/62 [==============================] - 1s 14ms/step - loss: 1.6625 - accuracy: 0.4402 - val_loss: 0.9858 - val_accuracy: 0.7951\n",
            "Epoch 71/1000\n",
            "59/62 [===========================>..] - ETA: 0s - loss: 1.6604 - accuracy: 0.4323\n",
            "Epoch 71: saving model to model/keypoint_classifier/keypoint_classifier.hdf5\n",
            "62/62 [==============================] - 1s 11ms/step - loss: 1.6608 - accuracy: 0.4323 - val_loss: 0.9831 - val_accuracy: 0.8201\n",
            "Epoch 72/1000\n",
            "60/62 [============================>.] - ETA: 0s - loss: 1.6672 - accuracy: 0.4316\n",
            "Epoch 72: saving model to model/keypoint_classifier/keypoint_classifier.hdf5\n",
            "62/62 [==============================] - 1s 14ms/step - loss: 1.6674 - accuracy: 0.4314 - val_loss: 0.9655 - val_accuracy: 0.8095\n",
            "Epoch 73/1000\n",
            "61/62 [============================>.] - ETA: 0s - loss: 1.6406 - accuracy: 0.4522\n",
            "Epoch 73: saving model to model/keypoint_classifier/keypoint_classifier.hdf5\n",
            "62/62 [==============================] - 1s 11ms/step - loss: 1.6396 - accuracy: 0.4522 - val_loss: 0.9575 - val_accuracy: 0.7977\n",
            "Epoch 74/1000\n",
            "61/62 [============================>.] - ETA: 0s - loss: 1.6303 - accuracy: 0.4508\n",
            "Epoch 74: saving model to model/keypoint_classifier/keypoint_classifier.hdf5\n",
            "62/62 [==============================] - 1s 13ms/step - loss: 1.6346 - accuracy: 0.4493 - val_loss: 0.9562 - val_accuracy: 0.8121\n",
            "Epoch 75/1000\n",
            "54/62 [=========================>....] - ETA: 0s - loss: 1.6349 - accuracy: 0.4421\n",
            "Epoch 75: saving model to model/keypoint_classifier/keypoint_classifier.hdf5\n",
            "62/62 [==============================] - 1s 12ms/step - loss: 1.6334 - accuracy: 0.4453 - val_loss: 0.9509 - val_accuracy: 0.8027\n",
            "Epoch 76/1000\n",
            "62/62 [==============================] - ETA: 0s - loss: 1.6547 - accuracy: 0.4396\n",
            "Epoch 76: saving model to model/keypoint_classifier/keypoint_classifier.hdf5\n",
            "62/62 [==============================] - 1s 11ms/step - loss: 1.6547 - accuracy: 0.4396 - val_loss: 0.9584 - val_accuracy: 0.8125\n",
            "Epoch 77/1000\n",
            "57/62 [==========================>...] - ETA: 0s - loss: 1.6379 - accuracy: 0.4453\n",
            "Epoch 77: saving model to model/keypoint_classifier/keypoint_classifier.hdf5\n",
            "62/62 [==============================] - 1s 11ms/step - loss: 1.6289 - accuracy: 0.4490 - val_loss: 0.9525 - val_accuracy: 0.8087\n",
            "Epoch 78/1000\n",
            "54/62 [=========================>....] - ETA: 0s - loss: 1.6318 - accuracy: 0.4429\n",
            "Epoch 78: saving model to model/keypoint_classifier/keypoint_classifier.hdf5\n",
            "62/62 [==============================] - 1s 12ms/step - loss: 1.6394 - accuracy: 0.4412 - val_loss: 0.9539 - val_accuracy: 0.8220\n",
            "Epoch 79/1000\n",
            "58/62 [===========================>..] - ETA: 0s - loss: 1.6239 - accuracy: 0.4473\n",
            "Epoch 79: saving model to model/keypoint_classifier/keypoint_classifier.hdf5\n",
            "62/62 [==============================] - 1s 16ms/step - loss: 1.6265 - accuracy: 0.4464 - val_loss: 0.9443 - val_accuracy: 0.8178\n",
            "Epoch 80/1000\n",
            "55/62 [=========================>....] - ETA: 0s - loss: 1.6317 - accuracy: 0.4466\n",
            "Epoch 80: saving model to model/keypoint_classifier/keypoint_classifier.hdf5\n",
            "62/62 [==============================] - 1s 14ms/step - loss: 1.6320 - accuracy: 0.4479 - val_loss: 0.9513 - val_accuracy: 0.8121\n",
            "Epoch 81/1000\n",
            "61/62 [============================>.] - ETA: 0s - loss: 1.6283 - accuracy: 0.4533\n",
            "Epoch 81: saving model to model/keypoint_classifier/keypoint_classifier.hdf5\n",
            "62/62 [==============================] - 1s 11ms/step - loss: 1.6303 - accuracy: 0.4516 - val_loss: 0.9380 - val_accuracy: 0.8284\n",
            "Epoch 82/1000\n",
            "61/62 [============================>.] - ETA: 0s - loss: 1.6099 - accuracy: 0.4495\n",
            "Epoch 82: saving model to model/keypoint_classifier/keypoint_classifier.hdf5\n",
            "62/62 [==============================] - 1s 11ms/step - loss: 1.6116 - accuracy: 0.4493 - val_loss: 0.9318 - val_accuracy: 0.8045\n",
            "Epoch 83/1000\n",
            "61/62 [============================>.] - ETA: 0s - loss: 1.6217 - accuracy: 0.4525\n",
            "Epoch 83: saving model to model/keypoint_classifier/keypoint_classifier.hdf5\n",
            "62/62 [==============================] - 1s 13ms/step - loss: 1.6222 - accuracy: 0.4525 - val_loss: 0.9118 - val_accuracy: 0.8326\n",
            "Epoch 84/1000\n",
            "58/62 [===========================>..] - ETA: 0s - loss: 1.6003 - accuracy: 0.4626\n",
            "Epoch 84: saving model to model/keypoint_classifier/keypoint_classifier.hdf5\n",
            "62/62 [==============================] - 1s 12ms/step - loss: 1.5975 - accuracy: 0.4627 - val_loss: 0.9280 - val_accuracy: 0.7864\n",
            "Epoch 85/1000\n",
            "61/62 [============================>.] - ETA: 0s - loss: 1.5983 - accuracy: 0.4579\n",
            "Epoch 85: saving model to model/keypoint_classifier/keypoint_classifier.hdf5\n",
            "62/62 [==============================] - 1s 11ms/step - loss: 1.5967 - accuracy: 0.4584 - val_loss: 0.9300 - val_accuracy: 0.8091\n",
            "Epoch 86/1000\n",
            "60/62 [============================>.] - ETA: 0s - loss: 1.6016 - accuracy: 0.4548\n",
            "Epoch 86: saving model to model/keypoint_classifier/keypoint_classifier.hdf5\n",
            "62/62 [==============================] - 1s 17ms/step - loss: 1.5991 - accuracy: 0.4546 - val_loss: 0.9151 - val_accuracy: 0.8288\n",
            "Epoch 87/1000\n",
            "61/62 [============================>.] - ETA: 0s - loss: 1.6144 - accuracy: 0.4498\n",
            "Epoch 87: saving model to model/keypoint_classifier/keypoint_classifier.hdf5\n",
            "62/62 [==============================] - 1s 13ms/step - loss: 1.6129 - accuracy: 0.4499 - val_loss: 0.9239 - val_accuracy: 0.8220\n",
            "Epoch 88/1000\n",
            "58/62 [===========================>..] - ETA: 0s - loss: 1.6008 - accuracy: 0.4531\n",
            "Epoch 88: saving model to model/keypoint_classifier/keypoint_classifier.hdf5\n",
            "62/62 [==============================] - 1s 11ms/step - loss: 1.5985 - accuracy: 0.4557 - val_loss: 0.9112 - val_accuracy: 0.8227\n",
            "Epoch 89/1000\n",
            "62/62 [==============================] - ETA: 0s - loss: 1.5845 - accuracy: 0.4576\n",
            "Epoch 89: saving model to model/keypoint_classifier/keypoint_classifier.hdf5\n",
            "62/62 [==============================] - 1s 12ms/step - loss: 1.5845 - accuracy: 0.4576 - val_loss: 0.9107 - val_accuracy: 0.8231\n",
            "Epoch 90/1000\n",
            "57/62 [==========================>...] - ETA: 0s - loss: 1.5758 - accuracy: 0.4646\n",
            "Epoch 90: saving model to model/keypoint_classifier/keypoint_classifier.hdf5\n",
            "62/62 [==============================] - 1s 15ms/step - loss: 1.5701 - accuracy: 0.4694 - val_loss: 0.9114 - val_accuracy: 0.8098\n",
            "Epoch 91/1000\n",
            "57/62 [==========================>...] - ETA: 0s - loss: 1.5837 - accuracy: 0.4553\n",
            "Epoch 91: saving model to model/keypoint_classifier/keypoint_classifier.hdf5\n",
            "62/62 [==============================] - 1s 12ms/step - loss: 1.5802 - accuracy: 0.4566 - val_loss: 0.9032 - val_accuracy: 0.8379\n",
            "Epoch 92/1000\n",
            "57/62 [==========================>...] - ETA: 0s - loss: 1.5616 - accuracy: 0.4711\n",
            "Epoch 92: saving model to model/keypoint_classifier/keypoint_classifier.hdf5\n",
            "62/62 [==============================] - 1s 10ms/step - loss: 1.5571 - accuracy: 0.4730 - val_loss: 0.8971 - val_accuracy: 0.8405\n",
            "Epoch 93/1000\n",
            "61/62 [============================>.] - ETA: 0s - loss: 1.5950 - accuracy: 0.4593\n",
            "Epoch 93: saving model to model/keypoint_classifier/keypoint_classifier.hdf5\n",
            "62/62 [==============================] - 1s 13ms/step - loss: 1.5947 - accuracy: 0.4591 - val_loss: 0.9040 - val_accuracy: 0.8178\n",
            "Epoch 94/1000\n",
            "58/62 [===========================>..] - ETA: 0s - loss: 1.5690 - accuracy: 0.4675\n",
            "Epoch 94: saving model to model/keypoint_classifier/keypoint_classifier.hdf5\n",
            "62/62 [==============================] - 1s 13ms/step - loss: 1.5704 - accuracy: 0.4670 - val_loss: 0.8919 - val_accuracy: 0.8273\n",
            "Epoch 95/1000\n",
            "62/62 [==============================] - ETA: 0s - loss: 1.5657 - accuracy: 0.4735\n",
            "Epoch 95: saving model to model/keypoint_classifier/keypoint_classifier.hdf5\n",
            "62/62 [==============================] - 1s 11ms/step - loss: 1.5657 - accuracy: 0.4735 - val_loss: 0.8874 - val_accuracy: 0.8152\n",
            "Epoch 96/1000\n",
            "61/62 [============================>.] - ETA: 0s - loss: 1.5622 - accuracy: 0.4737\n",
            "Epoch 96: saving model to model/keypoint_classifier/keypoint_classifier.hdf5\n",
            "62/62 [==============================] - 1s 12ms/step - loss: 1.5645 - accuracy: 0.4728 - val_loss: 0.8933 - val_accuracy: 0.7992\n",
            "Epoch 97/1000\n",
            "60/62 [============================>.] - ETA: 0s - loss: 1.5612 - accuracy: 0.4716\n",
            "Epoch 97: saving model to model/keypoint_classifier/keypoint_classifier.hdf5\n",
            "62/62 [==============================] - 1s 13ms/step - loss: 1.5630 - accuracy: 0.4713 - val_loss: 0.8998 - val_accuracy: 0.8201\n",
            "Epoch 98/1000\n",
            "60/62 [============================>.] - ETA: 0s - loss: 1.5433 - accuracy: 0.4697\n",
            "Epoch 98: saving model to model/keypoint_classifier/keypoint_classifier.hdf5\n",
            "62/62 [==============================] - 1s 13ms/step - loss: 1.5408 - accuracy: 0.4711 - val_loss: 0.8766 - val_accuracy: 0.8398\n",
            "Epoch 99/1000\n",
            "54/62 [=========================>....] - ETA: 0s - loss: 1.5534 - accuracy: 0.4676\n",
            "Epoch 99: saving model to model/keypoint_classifier/keypoint_classifier.hdf5\n",
            "62/62 [==============================] - 1s 14ms/step - loss: 1.5624 - accuracy: 0.4646 - val_loss: 0.8880 - val_accuracy: 0.8311\n",
            "Epoch 100/1000\n",
            "62/62 [==============================] - ETA: 0s - loss: 1.5528 - accuracy: 0.4830\n",
            "Epoch 100: saving model to model/keypoint_classifier/keypoint_classifier.hdf5\n",
            "62/62 [==============================] - 1s 17ms/step - loss: 1.5528 - accuracy: 0.4830 - val_loss: 0.8810 - val_accuracy: 0.8110\n",
            "Epoch 101/1000\n",
            "61/62 [============================>.] - ETA: 0s - loss: 1.5371 - accuracy: 0.4784\n",
            "Epoch 101: saving model to model/keypoint_classifier/keypoint_classifier.hdf5\n",
            "62/62 [==============================] - 1s 12ms/step - loss: 1.5377 - accuracy: 0.4777 - val_loss: 0.8781 - val_accuracy: 0.8258\n",
            "Epoch 102/1000\n",
            "56/62 [==========================>...] - ETA: 0s - loss: 1.5529 - accuracy: 0.4657\n",
            "Epoch 102: saving model to model/keypoint_classifier/keypoint_classifier.hdf5\n",
            "62/62 [==============================] - 1s 10ms/step - loss: 1.5611 - accuracy: 0.4639 - val_loss: 0.8803 - val_accuracy: 0.8314\n",
            "Epoch 103/1000\n",
            "60/62 [============================>.] - ETA: 0s - loss: 1.5361 - accuracy: 0.4717\n",
            "Epoch 103: saving model to model/keypoint_classifier/keypoint_classifier.hdf5\n",
            "62/62 [==============================] - 1s 12ms/step - loss: 1.5341 - accuracy: 0.4729 - val_loss: 0.8733 - val_accuracy: 0.8223\n",
            "Epoch 104/1000\n",
            "56/62 [==========================>...] - ETA: 0s - loss: 1.5321 - accuracy: 0.4746\n",
            "Epoch 104: saving model to model/keypoint_classifier/keypoint_classifier.hdf5\n",
            "62/62 [==============================] - 1s 12ms/step - loss: 1.5332 - accuracy: 0.4751 - val_loss: 0.8774 - val_accuracy: 0.8265\n",
            "Epoch 105/1000\n",
            "62/62 [==============================] - ETA: 0s - loss: 1.5393 - accuracy: 0.4788\n",
            "Epoch 105: saving model to model/keypoint_classifier/keypoint_classifier.hdf5\n",
            "62/62 [==============================] - 1s 13ms/step - loss: 1.5393 - accuracy: 0.4788 - val_loss: 0.8669 - val_accuracy: 0.8182\n",
            "Epoch 106/1000\n",
            "59/62 [===========================>..] - ETA: 0s - loss: 1.5270 - accuracy: 0.4854\n",
            "Epoch 106: saving model to model/keypoint_classifier/keypoint_classifier.hdf5\n",
            "62/62 [==============================] - 1s 11ms/step - loss: 1.5318 - accuracy: 0.4829 - val_loss: 0.8708 - val_accuracy: 0.8447\n",
            "Epoch 107/1000\n",
            "60/62 [============================>.] - ETA: 0s - loss: 1.5347 - accuracy: 0.4740\n",
            "Epoch 107: saving model to model/keypoint_classifier/keypoint_classifier.hdf5\n",
            "62/62 [==============================] - 1s 14ms/step - loss: 1.5347 - accuracy: 0.4728 - val_loss: 0.8633 - val_accuracy: 0.8295\n",
            "Epoch 108/1000\n",
            "58/62 [===========================>..] - ETA: 0s - loss: 1.5368 - accuracy: 0.4799\n",
            "Epoch 108: saving model to model/keypoint_classifier/keypoint_classifier.hdf5\n",
            "62/62 [==============================] - 1s 15ms/step - loss: 1.5384 - accuracy: 0.4788 - val_loss: 0.8770 - val_accuracy: 0.8277\n",
            "Epoch 109/1000\n",
            "58/62 [===========================>..] - ETA: 0s - loss: 1.5075 - accuracy: 0.4838\n",
            "Epoch 109: saving model to model/keypoint_classifier/keypoint_classifier.hdf5\n",
            "62/62 [==============================] - 1s 14ms/step - loss: 1.5122 - accuracy: 0.4816 - val_loss: 0.8627 - val_accuracy: 0.8333\n",
            "Epoch 110/1000\n",
            "59/62 [===========================>..] - ETA: 0s - loss: 1.5062 - accuracy: 0.4825\n",
            "Epoch 110: saving model to model/keypoint_classifier/keypoint_classifier.hdf5\n",
            "62/62 [==============================] - 1s 11ms/step - loss: 1.5069 - accuracy: 0.4815 - val_loss: 0.8588 - val_accuracy: 0.8182\n",
            "Epoch 111/1000\n",
            "58/62 [===========================>..] - ETA: 0s - loss: 1.5347 - accuracy: 0.4799\n",
            "Epoch 111: saving model to model/keypoint_classifier/keypoint_classifier.hdf5\n",
            "62/62 [==============================] - 1s 12ms/step - loss: 1.5299 - accuracy: 0.4810 - val_loss: 0.8651 - val_accuracy: 0.8212\n",
            "Epoch 112/1000\n",
            "60/62 [============================>.] - ETA: 0s - loss: 1.5062 - accuracy: 0.4876\n",
            "Epoch 112: saving model to model/keypoint_classifier/keypoint_classifier.hdf5\n",
            "62/62 [==============================] - 1s 13ms/step - loss: 1.5054 - accuracy: 0.4867 - val_loss: 0.8367 - val_accuracy: 0.8235\n",
            "Epoch 113/1000\n",
            "57/62 [==========================>...] - ETA: 0s - loss: 1.4991 - accuracy: 0.4853\n",
            "Epoch 113: saving model to model/keypoint_classifier/keypoint_classifier.hdf5\n",
            "62/62 [==============================] - 1s 15ms/step - loss: 1.4994 - accuracy: 0.4845 - val_loss: 0.8447 - val_accuracy: 0.8155\n",
            "Epoch 114/1000\n",
            "59/62 [===========================>..] - ETA: 0s - loss: 1.4743 - accuracy: 0.4901\n",
            "Epoch 114: saving model to model/keypoint_classifier/keypoint_classifier.hdf5\n",
            "62/62 [==============================] - 1s 12ms/step - loss: 1.4767 - accuracy: 0.4898 - val_loss: 0.8445 - val_accuracy: 0.8117\n",
            "Epoch 115/1000\n",
            "54/62 [=========================>....] - ETA: 0s - loss: 1.4902 - accuracy: 0.4954\n",
            "Epoch 115: saving model to model/keypoint_classifier/keypoint_classifier.hdf5\n",
            "62/62 [==============================] - 1s 13ms/step - loss: 1.4921 - accuracy: 0.4964 - val_loss: 0.8542 - val_accuracy: 0.8201\n",
            "Epoch 116/1000\n",
            "61/62 [============================>.] - ETA: 0s - loss: 1.4840 - accuracy: 0.4919\n",
            "Epoch 116: saving model to model/keypoint_classifier/keypoint_classifier.hdf5\n",
            "62/62 [==============================] - 1s 12ms/step - loss: 1.4835 - accuracy: 0.4927 - val_loss: 0.8402 - val_accuracy: 0.8261\n",
            "Epoch 117/1000\n",
            "62/62 [==============================] - ETA: 0s - loss: 1.4999 - accuracy: 0.4801\n",
            "Epoch 117: saving model to model/keypoint_classifier/keypoint_classifier.hdf5\n",
            "62/62 [==============================] - 1s 17ms/step - loss: 1.4999 - accuracy: 0.4801 - val_loss: 0.8443 - val_accuracy: 0.8064\n",
            "Epoch 118/1000\n",
            "57/62 [==========================>...] - ETA: 0s - loss: 1.4985 - accuracy: 0.4833\n",
            "Epoch 118: saving model to model/keypoint_classifier/keypoint_classifier.hdf5\n",
            "62/62 [==============================] - 1s 12ms/step - loss: 1.4950 - accuracy: 0.4864 - val_loss: 0.8502 - val_accuracy: 0.8258\n",
            "Epoch 119/1000\n",
            "55/62 [=========================>....] - ETA: 0s - loss: 1.5079 - accuracy: 0.4966\n",
            "Epoch 119: saving model to model/keypoint_classifier/keypoint_classifier.hdf5\n",
            "62/62 [==============================] - 1s 14ms/step - loss: 1.5008 - accuracy: 0.4977 - val_loss: 0.8439 - val_accuracy: 0.8258\n",
            "Epoch 120/1000\n",
            "57/62 [==========================>...] - ETA: 0s - loss: 1.4685 - accuracy: 0.4985\n",
            "Epoch 120: saving model to model/keypoint_classifier/keypoint_classifier.hdf5\n",
            "62/62 [==============================] - 1s 12ms/step - loss: 1.4625 - accuracy: 0.5006 - val_loss: 0.8259 - val_accuracy: 0.8746\n",
            "Epoch 121/1000\n",
            "56/62 [==========================>...] - ETA: 0s - loss: 1.5095 - accuracy: 0.4813\n",
            "Epoch 121: saving model to model/keypoint_classifier/keypoint_classifier.hdf5\n",
            "62/62 [==============================] - 1s 12ms/step - loss: 1.5163 - accuracy: 0.4811 - val_loss: 0.8437 - val_accuracy: 0.8523\n",
            "Epoch 122/1000\n",
            "58/62 [===========================>..] - ETA: 0s - loss: 1.4801 - accuracy: 0.4815\n",
            "Epoch 122: saving model to model/keypoint_classifier/keypoint_classifier.hdf5\n",
            "62/62 [==============================] - 1s 15ms/step - loss: 1.4745 - accuracy: 0.4842 - val_loss: 0.8317 - val_accuracy: 0.8242\n",
            "Epoch 123/1000\n",
            "59/62 [===========================>..] - ETA: 0s - loss: 1.4867 - accuracy: 0.4977\n",
            "Epoch 123: saving model to model/keypoint_classifier/keypoint_classifier.hdf5\n",
            "62/62 [==============================] - 1s 12ms/step - loss: 1.4865 - accuracy: 0.4972 - val_loss: 0.8222 - val_accuracy: 0.8314\n",
            "Epoch 124/1000\n",
            "57/62 [==========================>...] - ETA: 0s - loss: 1.4708 - accuracy: 0.4916\n",
            "Epoch 124: saving model to model/keypoint_classifier/keypoint_classifier.hdf5\n",
            "62/62 [==============================] - 1s 11ms/step - loss: 1.4728 - accuracy: 0.4911 - val_loss: 0.8408 - val_accuracy: 0.8447\n",
            "Epoch 125/1000\n",
            "58/62 [===========================>..] - ETA: 0s - loss: 1.4579 - accuracy: 0.5024\n",
            "Epoch 125: saving model to model/keypoint_classifier/keypoint_classifier.hdf5\n",
            "62/62 [==============================] - 1s 20ms/step - loss: 1.4627 - accuracy: 0.5011 - val_loss: 0.8338 - val_accuracy: 0.8277\n",
            "Epoch 126/1000\n",
            "62/62 [==============================] - ETA: 0s - loss: 1.4745 - accuracy: 0.4935\n",
            "Epoch 126: saving model to model/keypoint_classifier/keypoint_classifier.hdf5\n",
            "62/62 [==============================] - 1s 13ms/step - loss: 1.4745 - accuracy: 0.4935 - val_loss: 0.8326 - val_accuracy: 0.8348\n",
            "Epoch 127/1000\n",
            "58/62 [===========================>..] - ETA: 0s - loss: 1.4714 - accuracy: 0.4976\n",
            "Epoch 127: saving model to model/keypoint_classifier/keypoint_classifier.hdf5\n",
            "62/62 [==============================] - 1s 14ms/step - loss: 1.4728 - accuracy: 0.4979 - val_loss: 0.8262 - val_accuracy: 0.8155\n",
            "Epoch 128/1000\n",
            "61/62 [============================>.] - ETA: 0s - loss: 1.4734 - accuracy: 0.4963\n",
            "Epoch 128: saving model to model/keypoint_classifier/keypoint_classifier.hdf5\n",
            "62/62 [==============================] - 1s 14ms/step - loss: 1.4731 - accuracy: 0.4956 - val_loss: 0.8183 - val_accuracy: 0.8212\n",
            "Epoch 129/1000\n",
            "58/62 [===========================>..] - ETA: 0s - loss: 1.4827 - accuracy: 0.4976\n",
            "Epoch 129: saving model to model/keypoint_classifier/keypoint_classifier.hdf5\n",
            "62/62 [==============================] - 1s 12ms/step - loss: 1.4762 - accuracy: 0.4982 - val_loss: 0.8222 - val_accuracy: 0.8280\n",
            "Epoch 130/1000\n",
            "58/62 [===========================>..] - ETA: 0s - loss: 1.4749 - accuracy: 0.4993\n",
            "Epoch 130: saving model to model/keypoint_classifier/keypoint_classifier.hdf5\n",
            "62/62 [==============================] - 1s 16ms/step - loss: 1.4726 - accuracy: 0.4999 - val_loss: 0.8204 - val_accuracy: 0.8617\n",
            "Epoch 131/1000\n",
            "55/62 [=========================>....] - ETA: 0s - loss: 1.4755 - accuracy: 0.4956\n",
            "Epoch 131: saving model to model/keypoint_classifier/keypoint_classifier.hdf5\n",
            "62/62 [==============================] - 1s 13ms/step - loss: 1.4746 - accuracy: 0.4940 - val_loss: 0.8284 - val_accuracy: 0.8432\n",
            "Epoch 132/1000\n",
            "55/62 [=========================>....] - ETA: 0s - loss: 1.4830 - accuracy: 0.4925\n",
            "Epoch 132: saving model to model/keypoint_classifier/keypoint_classifier.hdf5\n",
            "62/62 [==============================] - 1s 11ms/step - loss: 1.4841 - accuracy: 0.4926 - val_loss: 0.8177 - val_accuracy: 0.8693\n",
            "Epoch 133/1000\n",
            "56/62 [==========================>...] - ETA: 0s - loss: 1.4566 - accuracy: 0.5130\n",
            "Epoch 133: saving model to model/keypoint_classifier/keypoint_classifier.hdf5\n",
            "62/62 [==============================] - 1s 17ms/step - loss: 1.4507 - accuracy: 0.5151 - val_loss: 0.8177 - val_accuracy: 0.8424\n",
            "Epoch 134/1000\n",
            "56/62 [==========================>...] - ETA: 0s - loss: 1.4534 - accuracy: 0.5063\n",
            "Epoch 134: saving model to model/keypoint_classifier/keypoint_classifier.hdf5\n",
            "62/62 [==============================] - 1s 13ms/step - loss: 1.4622 - accuracy: 0.5031 - val_loss: 0.8138 - val_accuracy: 0.8583\n",
            "Epoch 135/1000\n",
            "60/62 [============================>.] - ETA: 0s - loss: 1.4537 - accuracy: 0.4984\n",
            "Epoch 135: saving model to model/keypoint_classifier/keypoint_classifier.hdf5\n",
            "62/62 [==============================] - 1s 12ms/step - loss: 1.4535 - accuracy: 0.4982 - val_loss: 0.8277 - val_accuracy: 0.8314\n",
            "Epoch 136/1000\n",
            "56/62 [==========================>...] - ETA: 0s - loss: 1.4601 - accuracy: 0.4962\n",
            "Epoch 136: saving model to model/keypoint_classifier/keypoint_classifier.hdf5\n",
            "62/62 [==============================] - 1s 15ms/step - loss: 1.4614 - accuracy: 0.4936 - val_loss: 0.8077 - val_accuracy: 0.8640\n",
            "Epoch 137/1000\n",
            "58/62 [===========================>..] - ETA: 0s - loss: 1.4381 - accuracy: 0.5020\n",
            "Epoch 137: saving model to model/keypoint_classifier/keypoint_classifier.hdf5\n",
            "62/62 [==============================] - 1s 12ms/step - loss: 1.4400 - accuracy: 0.5025 - val_loss: 0.8056 - val_accuracy: 0.8201\n",
            "Epoch 138/1000\n",
            "62/62 [==============================] - ETA: 0s - loss: 1.4494 - accuracy: 0.5052\n",
            "Epoch 138: saving model to model/keypoint_classifier/keypoint_classifier.hdf5\n",
            "62/62 [==============================] - 1s 13ms/step - loss: 1.4494 - accuracy: 0.5052 - val_loss: 0.8264 - val_accuracy: 0.8371\n",
            "Epoch 139/1000\n",
            "60/62 [============================>.] - ETA: 0s - loss: 1.4610 - accuracy: 0.5043\n",
            "Epoch 139: saving model to model/keypoint_classifier/keypoint_classifier.hdf5\n",
            "62/62 [==============================] - 1s 13ms/step - loss: 1.4660 - accuracy: 0.5039 - val_loss: 0.8198 - val_accuracy: 0.8280\n",
            "Epoch 140/1000\n",
            "58/62 [===========================>..] - ETA: 0s - loss: 1.4355 - accuracy: 0.5117\n",
            "Epoch 140: saving model to model/keypoint_classifier/keypoint_classifier.hdf5\n",
            "62/62 [==============================] - 1s 23ms/step - loss: 1.4389 - accuracy: 0.5102 - val_loss: 0.8032 - val_accuracy: 0.8311\n",
            "Epoch 141/1000\n",
            "57/62 [==========================>...] - ETA: 0s - loss: 1.4275 - accuracy: 0.5111\n",
            "Epoch 141: saving model to model/keypoint_classifier/keypoint_classifier.hdf5\n",
            "62/62 [==============================] - 1s 17ms/step - loss: 1.4308 - accuracy: 0.5078 - val_loss: 0.8084 - val_accuracy: 0.8223\n",
            "Epoch 142/1000\n",
            "60/62 [============================>.] - ETA: 0s - loss: 1.4244 - accuracy: 0.5095\n",
            "Epoch 142: saving model to model/keypoint_classifier/keypoint_classifier.hdf5\n",
            "62/62 [==============================] - 1s 13ms/step - loss: 1.4250 - accuracy: 0.5105 - val_loss: 0.8108 - val_accuracy: 0.8352\n",
            "Epoch 143/1000\n",
            "57/62 [==========================>...] - ETA: 0s - loss: 1.4407 - accuracy: 0.5037\n",
            "Epoch 143: saving model to model/keypoint_classifier/keypoint_classifier.hdf5\n",
            "62/62 [==============================] - 1s 13ms/step - loss: 1.4347 - accuracy: 0.5066 - val_loss: 0.8183 - val_accuracy: 0.8602\n",
            "Epoch 144/1000\n",
            "62/62 [==============================] - ETA: 0s - loss: 1.4672 - accuracy: 0.5016\n",
            "Epoch 144: saving model to model/keypoint_classifier/keypoint_classifier.hdf5\n",
            "62/62 [==============================] - 1s 12ms/step - loss: 1.4672 - accuracy: 0.5016 - val_loss: 0.8145 - val_accuracy: 0.8159\n",
            "Epoch 145/1000\n",
            "58/62 [===========================>..] - ETA: 0s - loss: 1.4615 - accuracy: 0.5058\n",
            "Epoch 145: saving model to model/keypoint_classifier/keypoint_classifier.hdf5\n",
            "62/62 [==============================] - 1s 12ms/step - loss: 1.4637 - accuracy: 0.5052 - val_loss: 0.8123 - val_accuracy: 0.8182\n",
            "Epoch 146/1000\n",
            "55/62 [=========================>....] - ETA: 0s - loss: 1.4312 - accuracy: 0.5091\n",
            "Epoch 146: saving model to model/keypoint_classifier/keypoint_classifier.hdf5\n",
            "62/62 [==============================] - 1s 16ms/step - loss: 1.4305 - accuracy: 0.5103 - val_loss: 0.8055 - val_accuracy: 0.8174\n",
            "Epoch 147/1000\n",
            "62/62 [==============================] - ETA: 0s - loss: 1.4577 - accuracy: 0.5041\n",
            "Epoch 147: saving model to model/keypoint_classifier/keypoint_classifier.hdf5\n",
            "62/62 [==============================] - 1s 14ms/step - loss: 1.4577 - accuracy: 0.5041 - val_loss: 0.8064 - val_accuracy: 0.8170\n",
            "Epoch 148/1000\n",
            "62/62 [==============================] - ETA: 0s - loss: 1.4513 - accuracy: 0.5078\n",
            "Epoch 148: saving model to model/keypoint_classifier/keypoint_classifier.hdf5\n",
            "62/62 [==============================] - 1s 17ms/step - loss: 1.4513 - accuracy: 0.5078 - val_loss: 0.8062 - val_accuracy: 0.8193\n",
            "Epoch 149/1000\n",
            "55/62 [=========================>....] - ETA: 0s - loss: 1.4390 - accuracy: 0.5082\n",
            "Epoch 149: saving model to model/keypoint_classifier/keypoint_classifier.hdf5\n",
            "62/62 [==============================] - 1s 13ms/step - loss: 1.4368 - accuracy: 0.5090 - val_loss: 0.7971 - val_accuracy: 0.8527\n",
            "Epoch 150/1000\n",
            "59/62 [===========================>..] - ETA: 0s - loss: 1.4394 - accuracy: 0.5032\n",
            "Epoch 150: saving model to model/keypoint_classifier/keypoint_classifier.hdf5\n",
            "62/62 [==============================] - 1s 12ms/step - loss: 1.4400 - accuracy: 0.5017 - val_loss: 0.8100 - val_accuracy: 0.8072\n",
            "Epoch 151/1000\n",
            "62/62 [==============================] - ETA: 0s - loss: 1.4498 - accuracy: 0.5064\n",
            "Epoch 151: saving model to model/keypoint_classifier/keypoint_classifier.hdf5\n",
            "62/62 [==============================] - 1s 14ms/step - loss: 1.4498 - accuracy: 0.5064 - val_loss: 0.8003 - val_accuracy: 0.8106\n",
            "Epoch 152/1000\n",
            "60/62 [============================>.] - ETA: 0s - loss: 1.4461 - accuracy: 0.5029\n",
            "Epoch 152: saving model to model/keypoint_classifier/keypoint_classifier.hdf5\n",
            "62/62 [==============================] - 1s 12ms/step - loss: 1.4476 - accuracy: 0.5036 - val_loss: 0.8185 - val_accuracy: 0.8227\n",
            "Epoch 153/1000\n",
            "57/62 [==========================>...] - ETA: 0s - loss: 1.4375 - accuracy: 0.5108\n",
            "Epoch 153: saving model to model/keypoint_classifier/keypoint_classifier.hdf5\n",
            "62/62 [==============================] - 1s 12ms/step - loss: 1.4419 - accuracy: 0.5089 - val_loss: 0.8032 - val_accuracy: 0.8443\n",
            "Epoch 154/1000\n",
            "62/62 [==============================] - ETA: 0s - loss: 1.4584 - accuracy: 0.5039\n",
            "Epoch 154: saving model to model/keypoint_classifier/keypoint_classifier.hdf5\n",
            "62/62 [==============================] - 1s 14ms/step - loss: 1.4584 - accuracy: 0.5039 - val_loss: 0.8123 - val_accuracy: 0.8443\n",
            "Epoch 155/1000\n",
            "59/62 [===========================>..] - ETA: 0s - loss: 1.4357 - accuracy: 0.5065\n",
            "Epoch 155: saving model to model/keypoint_classifier/keypoint_classifier.hdf5\n",
            "62/62 [==============================] - 1s 12ms/step - loss: 1.4373 - accuracy: 0.5057 - val_loss: 0.8055 - val_accuracy: 0.8242\n",
            "Epoch 156/1000\n",
            "56/62 [==========================>...] - ETA: 0s - loss: 1.4243 - accuracy: 0.5099\n",
            "Epoch 156: saving model to model/keypoint_classifier/keypoint_classifier.hdf5\n",
            "62/62 [==============================] - 1s 18ms/step - loss: 1.4205 - accuracy: 0.5107 - val_loss: 0.7912 - val_accuracy: 0.8288\n",
            "Epoch 157/1000\n",
            "58/62 [===========================>..] - ETA: 0s - loss: 1.4204 - accuracy: 0.5108\n",
            "Epoch 157: saving model to model/keypoint_classifier/keypoint_classifier.hdf5\n",
            "62/62 [==============================] - 1s 14ms/step - loss: 1.4176 - accuracy: 0.5124 - val_loss: 0.8025 - val_accuracy: 0.8269\n",
            "Epoch 158/1000\n",
            "53/62 [========================>.....] - ETA: 0s - loss: 1.4410 - accuracy: 0.5046\n",
            "Epoch 158: saving model to model/keypoint_classifier/keypoint_classifier.hdf5\n",
            "62/62 [==============================] - 1s 11ms/step - loss: 1.4402 - accuracy: 0.5050 - val_loss: 0.8031 - val_accuracy: 0.8189\n",
            "Epoch 159/1000\n",
            "60/62 [============================>.] - ETA: 0s - loss: 1.4264 - accuracy: 0.5079\n",
            "Epoch 159: saving model to model/keypoint_classifier/keypoint_classifier.hdf5\n",
            "62/62 [==============================] - 1s 11ms/step - loss: 1.4301 - accuracy: 0.5071 - val_loss: 0.7963 - val_accuracy: 0.8436\n",
            "Epoch 160/1000\n",
            "62/62 [==============================] - ETA: 0s - loss: 1.4111 - accuracy: 0.5181\n",
            "Epoch 160: saving model to model/keypoint_classifier/keypoint_classifier.hdf5\n",
            "62/62 [==============================] - 1s 12ms/step - loss: 1.4111 - accuracy: 0.5181 - val_loss: 0.7921 - val_accuracy: 0.8242\n",
            "Epoch 161/1000\n",
            "57/62 [==========================>...] - ETA: 0s - loss: 1.4082 - accuracy: 0.5195\n",
            "Epoch 161: saving model to model/keypoint_classifier/keypoint_classifier.hdf5\n",
            "62/62 [==============================] - 1s 13ms/step - loss: 1.4129 - accuracy: 0.5190 - val_loss: 0.7926 - val_accuracy: 0.8333\n",
            "Epoch 162/1000\n",
            "60/62 [============================>.] - ETA: 0s - loss: 1.4285 - accuracy: 0.5227\n",
            "Epoch 162: saving model to model/keypoint_classifier/keypoint_classifier.hdf5\n",
            "62/62 [==============================] - 1s 13ms/step - loss: 1.4259 - accuracy: 0.5222 - val_loss: 0.7991 - val_accuracy: 0.8580\n",
            "Epoch 163/1000\n",
            "57/62 [==========================>...] - ETA: 0s - loss: 1.4371 - accuracy: 0.5100\n",
            "Epoch 163: saving model to model/keypoint_classifier/keypoint_classifier.hdf5\n",
            "62/62 [==============================] - 1s 18ms/step - loss: 1.4269 - accuracy: 0.5127 - val_loss: 0.7839 - val_accuracy: 0.8587\n",
            "Epoch 164/1000\n",
            "58/62 [===========================>..] - ETA: 0s - loss: 1.4338 - accuracy: 0.5085\n",
            "Epoch 164: saving model to model/keypoint_classifier/keypoint_classifier.hdf5\n",
            "62/62 [==============================] - 1s 11ms/step - loss: 1.4331 - accuracy: 0.5089 - val_loss: 0.8025 - val_accuracy: 0.8621\n",
            "Epoch 165/1000\n",
            "61/62 [============================>.] - ETA: 0s - loss: 1.4171 - accuracy: 0.5133\n",
            "Epoch 165: saving model to model/keypoint_classifier/keypoint_classifier.hdf5\n",
            "62/62 [==============================] - 1s 16ms/step - loss: 1.4195 - accuracy: 0.5134 - val_loss: 0.7945 - val_accuracy: 0.8068\n",
            "Epoch 166/1000\n",
            "58/62 [===========================>..] - ETA: 0s - loss: 1.4399 - accuracy: 0.5086\n",
            "Epoch 166: saving model to model/keypoint_classifier/keypoint_classifier.hdf5\n",
            "62/62 [==============================] - 1s 14ms/step - loss: 1.4384 - accuracy: 0.5081 - val_loss: 0.7919 - val_accuracy: 0.8436\n",
            "Epoch 167/1000\n",
            "60/62 [============================>.] - ETA: 0s - loss: 1.4280 - accuracy: 0.5049\n",
            "Epoch 167: saving model to model/keypoint_classifier/keypoint_classifier.hdf5\n",
            "62/62 [==============================] - 1s 11ms/step - loss: 1.4201 - accuracy: 0.5074 - val_loss: 0.8129 - val_accuracy: 0.8277\n",
            "Epoch 168/1000\n",
            "62/62 [==============================] - ETA: 0s - loss: 1.4101 - accuracy: 0.5182\n",
            "Epoch 168: saving model to model/keypoint_classifier/keypoint_classifier.hdf5\n",
            "62/62 [==============================] - 1s 12ms/step - loss: 1.4101 - accuracy: 0.5182 - val_loss: 0.7884 - val_accuracy: 0.8451\n",
            "Epoch 169/1000\n",
            "54/62 [=========================>....] - ETA: 0s - loss: 1.4336 - accuracy: 0.5017\n",
            "Epoch 169: saving model to model/keypoint_classifier/keypoint_classifier.hdf5\n",
            "62/62 [==============================] - 1s 12ms/step - loss: 1.4343 - accuracy: 0.5018 - val_loss: 0.8171 - val_accuracy: 0.8322\n",
            "Epoch 170/1000\n",
            "59/62 [===========================>..] - ETA: 0s - loss: 1.4224 - accuracy: 0.5099\n",
            "Epoch 170: saving model to model/keypoint_classifier/keypoint_classifier.hdf5\n",
            "62/62 [==============================] - 1s 12ms/step - loss: 1.4187 - accuracy: 0.5107 - val_loss: 0.7997 - val_accuracy: 0.8087\n",
            "Epoch 171/1000\n",
            "56/62 [==========================>...] - ETA: 0s - loss: 1.4156 - accuracy: 0.5112\n",
            "Epoch 171: saving model to model/keypoint_classifier/keypoint_classifier.hdf5\n",
            "62/62 [==============================] - 1s 11ms/step - loss: 1.4230 - accuracy: 0.5103 - val_loss: 0.7874 - val_accuracy: 0.8352\n",
            "Epoch 172/1000\n",
            "60/62 [============================>.] - ETA: 0s - loss: 1.4276 - accuracy: 0.5146\n",
            "Epoch 172: saving model to model/keypoint_classifier/keypoint_classifier.hdf5\n",
            "62/62 [==============================] - 1s 10ms/step - loss: 1.4232 - accuracy: 0.5155 - val_loss: 0.7989 - val_accuracy: 0.8269\n",
            "Epoch 173/1000\n",
            "58/62 [===========================>..] - ETA: 0s - loss: 1.4282 - accuracy: 0.5042\n",
            "Epoch 173: saving model to model/keypoint_classifier/keypoint_classifier.hdf5\n",
            "62/62 [==============================] - 1s 18ms/step - loss: 1.4263 - accuracy: 0.5054 - val_loss: 0.8187 - val_accuracy: 0.8068\n",
            "Epoch 174/1000\n",
            "59/62 [===========================>..] - ETA: 0s - loss: 1.4161 - accuracy: 0.5151\n",
            "Epoch 174: saving model to model/keypoint_classifier/keypoint_classifier.hdf5\n",
            "62/62 [==============================] - 1s 9ms/step - loss: 1.4117 - accuracy: 0.5165 - val_loss: 0.7976 - val_accuracy: 0.8458\n",
            "Epoch 175/1000\n",
            "56/62 [==========================>...] - ETA: 0s - loss: 1.4210 - accuracy: 0.5102\n",
            "Epoch 175: saving model to model/keypoint_classifier/keypoint_classifier.hdf5\n",
            "62/62 [==============================] - 1s 16ms/step - loss: 1.4191 - accuracy: 0.5112 - val_loss: 0.8054 - val_accuracy: 0.8148\n",
            "Epoch 176/1000\n",
            "61/62 [============================>.] - ETA: 0s - loss: 1.3975 - accuracy: 0.5173\n",
            "Epoch 176: saving model to model/keypoint_classifier/keypoint_classifier.hdf5\n",
            "62/62 [==============================] - 1s 11ms/step - loss: 1.3979 - accuracy: 0.5182 - val_loss: 0.7942 - val_accuracy: 0.8152\n",
            "Epoch 177/1000\n",
            "60/62 [============================>.] - ETA: 0s - loss: 1.3934 - accuracy: 0.5143\n",
            "Epoch 177: saving model to model/keypoint_classifier/keypoint_classifier.hdf5\n",
            "62/62 [==============================] - 1s 17ms/step - loss: 1.3966 - accuracy: 0.5148 - val_loss: 0.7915 - val_accuracy: 0.8280\n",
            "Epoch 178/1000\n",
            "55/62 [=========================>....] - ETA: 0s - loss: 1.4137 - accuracy: 0.5143\n",
            "Epoch 178: saving model to model/keypoint_classifier/keypoint_classifier.hdf5\n",
            "62/62 [==============================] - 1s 13ms/step - loss: 1.4038 - accuracy: 0.5199 - val_loss: 0.7788 - val_accuracy: 0.8170\n",
            "Epoch 179/1000\n",
            "58/62 [===========================>..] - ETA: 0s - loss: 1.4263 - accuracy: 0.5100\n",
            "Epoch 179: saving model to model/keypoint_classifier/keypoint_classifier.hdf5\n",
            "62/62 [==============================] - 1s 13ms/step - loss: 1.4257 - accuracy: 0.5090 - val_loss: 0.8032 - val_accuracy: 0.8292\n",
            "Epoch 180/1000\n",
            "57/62 [==========================>...] - ETA: 0s - loss: 1.4061 - accuracy: 0.5090\n",
            "Epoch 180: saving model to model/keypoint_classifier/keypoint_classifier.hdf5\n",
            "62/62 [==============================] - 1s 12ms/step - loss: 1.4118 - accuracy: 0.5100 - val_loss: 0.8030 - val_accuracy: 0.8061\n",
            "Epoch 181/1000\n",
            "61/62 [============================>.] - ETA: 0s - loss: 1.4156 - accuracy: 0.5152\n",
            "Epoch 181: saving model to model/keypoint_classifier/keypoint_classifier.hdf5\n",
            "62/62 [==============================] - 1s 11ms/step - loss: 1.4135 - accuracy: 0.5160 - val_loss: 0.8061 - val_accuracy: 0.8364\n",
            "Epoch 182/1000\n",
            "57/62 [==========================>...] - ETA: 0s - loss: 1.4072 - accuracy: 0.5200\n",
            "Epoch 182: saving model to model/keypoint_classifier/keypoint_classifier.hdf5\n",
            "62/62 [==============================] - 1s 11ms/step - loss: 1.4015 - accuracy: 0.5223 - val_loss: 0.7923 - val_accuracy: 0.8307\n",
            "Epoch 183/1000\n",
            "61/62 [============================>.] - ETA: 0s - loss: 1.3602 - accuracy: 0.5403\n",
            "Epoch 183: saving model to model/keypoint_classifier/keypoint_classifier.hdf5\n",
            "62/62 [==============================] - 1s 17ms/step - loss: 1.3638 - accuracy: 0.5401 - val_loss: 0.7768 - val_accuracy: 0.8208\n",
            "Epoch 184/1000\n",
            "61/62 [============================>.] - ETA: 0s - loss: 1.3878 - accuracy: 0.5209\n",
            "Epoch 184: saving model to model/keypoint_classifier/keypoint_classifier.hdf5\n",
            "62/62 [==============================] - 1s 19ms/step - loss: 1.3888 - accuracy: 0.5209 - val_loss: 0.7887 - val_accuracy: 0.8292\n",
            "Epoch 185/1000\n",
            "55/62 [=========================>....] - ETA: 0s - loss: 1.3974 - accuracy: 0.5132\n",
            "Epoch 185: saving model to model/keypoint_classifier/keypoint_classifier.hdf5\n",
            "62/62 [==============================] - 1s 15ms/step - loss: 1.3914 - accuracy: 0.5175 - val_loss: 0.7928 - val_accuracy: 0.8231\n",
            "Epoch 186/1000\n",
            "58/62 [===========================>..] - ETA: 0s - loss: 1.4031 - accuracy: 0.5210\n",
            "Epoch 186: saving model to model/keypoint_classifier/keypoint_classifier.hdf5\n",
            "62/62 [==============================] - 1s 17ms/step - loss: 1.4079 - accuracy: 0.5206 - val_loss: 0.8101 - val_accuracy: 0.8114\n",
            "Epoch 187/1000\n",
            "60/62 [============================>.] - ETA: 0s - loss: 1.4190 - accuracy: 0.5145\n",
            "Epoch 187: saving model to model/keypoint_classifier/keypoint_classifier.hdf5\n",
            "62/62 [==============================] - 1s 18ms/step - loss: 1.4183 - accuracy: 0.5147 - val_loss: 0.8016 - val_accuracy: 0.8053\n",
            "Epoch 188/1000\n",
            "62/62 [==============================] - ETA: 0s - loss: 1.3865 - accuracy: 0.5313\n",
            "Epoch 188: saving model to model/keypoint_classifier/keypoint_classifier.hdf5\n",
            "62/62 [==============================] - 1s 15ms/step - loss: 1.3865 - accuracy: 0.5313 - val_loss: 0.7974 - val_accuracy: 0.8049\n",
            "Epoch 189/1000\n",
            "57/62 [==========================>...] - ETA: 0s - loss: 1.3855 - accuracy: 0.5258\n",
            "Epoch 189: saving model to model/keypoint_classifier/keypoint_classifier.hdf5\n",
            "62/62 [==============================] - 1s 16ms/step - loss: 1.3834 - accuracy: 0.5258 - val_loss: 0.7795 - val_accuracy: 0.8133\n",
            "Epoch 190/1000\n",
            "57/62 [==========================>...] - ETA: 0s - loss: 1.3856 - accuracy: 0.5195\n",
            "Epoch 190: saving model to model/keypoint_classifier/keypoint_classifier.hdf5\n",
            "62/62 [==============================] - 1s 17ms/step - loss: 1.3892 - accuracy: 0.5186 - val_loss: 0.8066 - val_accuracy: 0.8045\n",
            "Epoch 191/1000\n",
            "58/62 [===========================>..] - ETA: 0s - loss: 1.4069 - accuracy: 0.5199\n",
            "Epoch 191: saving model to model/keypoint_classifier/keypoint_classifier.hdf5\n",
            "62/62 [==============================] - 1s 23ms/step - loss: 1.3994 - accuracy: 0.5215 - val_loss: 0.7940 - val_accuracy: 0.8288\n",
            "Epoch 192/1000\n",
            "62/62 [==============================] - ETA: 0s - loss: 1.3796 - accuracy: 0.5233\n",
            "Epoch 192: saving model to model/keypoint_classifier/keypoint_classifier.hdf5\n",
            "62/62 [==============================] - 1s 12ms/step - loss: 1.3796 - accuracy: 0.5233 - val_loss: 0.7951 - val_accuracy: 0.8341\n",
            "Epoch 193/1000\n",
            "60/62 [============================>.] - ETA: 0s - loss: 1.3881 - accuracy: 0.5215\n",
            "Epoch 193: saving model to model/keypoint_classifier/keypoint_classifier.hdf5\n",
            "62/62 [==============================] - 1s 14ms/step - loss: 1.3845 - accuracy: 0.5224 - val_loss: 0.7941 - val_accuracy: 0.8004\n",
            "Epoch 194/1000\n",
            "58/62 [===========================>..] - ETA: 0s - loss: 1.3818 - accuracy: 0.5257\n",
            "Epoch 194: saving model to model/keypoint_classifier/keypoint_classifier.hdf5\n",
            "62/62 [==============================] - 1s 15ms/step - loss: 1.3840 - accuracy: 0.5253 - val_loss: 0.8023 - val_accuracy: 0.8106\n",
            "Epoch 195/1000\n",
            "59/62 [===========================>..] - ETA: 0s - loss: 1.3777 - accuracy: 0.5310\n",
            "Epoch 195: saving model to model/keypoint_classifier/keypoint_classifier.hdf5\n",
            "62/62 [==============================] - 1s 14ms/step - loss: 1.3815 - accuracy: 0.5282 - val_loss: 0.8000 - val_accuracy: 0.8239\n",
            "Epoch 196/1000\n",
            "58/62 [===========================>..] - ETA: 0s - loss: 1.3791 - accuracy: 0.5246\n",
            "Epoch 196: saving model to model/keypoint_classifier/keypoint_classifier.hdf5\n",
            "62/62 [==============================] - 1s 13ms/step - loss: 1.3831 - accuracy: 0.5261 - val_loss: 0.7962 - val_accuracy: 0.8261\n",
            "Epoch 197/1000\n",
            "61/62 [============================>.] - ETA: 0s - loss: 1.3664 - accuracy: 0.5330\n",
            "Epoch 197: saving model to model/keypoint_classifier/keypoint_classifier.hdf5\n",
            "62/62 [==============================] - 1s 18ms/step - loss: 1.3656 - accuracy: 0.5333 - val_loss: 0.7864 - val_accuracy: 0.8189\n",
            "Epoch 198/1000\n",
            "58/62 [===========================>..] - ETA: 0s - loss: 1.3872 - accuracy: 0.5284\n",
            "Epoch 198: saving model to model/keypoint_classifier/keypoint_classifier.hdf5\n",
            "62/62 [==============================] - 1s 18ms/step - loss: 1.3872 - accuracy: 0.5276 - val_loss: 0.8015 - val_accuracy: 0.7981\n",
            "Epoch 199/1000\n",
            "54/62 [=========================>....] - ETA: 0s - loss: 1.3627 - accuracy: 0.5308\n",
            "Epoch 199: saving model to model/keypoint_classifier/keypoint_classifier.hdf5\n",
            "62/62 [==============================] - 2s 24ms/step - loss: 1.3740 - accuracy: 0.5286 - val_loss: 0.7799 - val_accuracy: 0.8208\n",
            "Epoch 200/1000\n",
            "61/62 [============================>.] - ETA: 0s - loss: 1.3613 - accuracy: 0.5310\n",
            "Epoch 200: saving model to model/keypoint_classifier/keypoint_classifier.hdf5\n",
            "62/62 [==============================] - 1s 16ms/step - loss: 1.3616 - accuracy: 0.5316 - val_loss: 0.7768 - val_accuracy: 0.8330\n",
            "Epoch 201/1000\n",
            "62/62 [==============================] - ETA: 0s - loss: 1.3886 - accuracy: 0.5305\n",
            "Epoch 201: saving model to model/keypoint_classifier/keypoint_classifier.hdf5\n",
            "62/62 [==============================] - 1s 13ms/step - loss: 1.3886 - accuracy: 0.5305 - val_loss: 0.7917 - val_accuracy: 0.7962\n",
            "Epoch 202/1000\n",
            "55/62 [=========================>....] - ETA: 0s - loss: 1.3752 - accuracy: 0.5286\n",
            "Epoch 202: saving model to model/keypoint_classifier/keypoint_classifier.hdf5\n",
            "62/62 [==============================] - 1s 14ms/step - loss: 1.3750 - accuracy: 0.5267 - val_loss: 0.7846 - val_accuracy: 0.8201\n",
            "Epoch 203/1000\n",
            "60/62 [============================>.] - ETA: 0s - loss: 1.3746 - accuracy: 0.5271\n",
            "Epoch 203: saving model to model/keypoint_classifier/keypoint_classifier.hdf5\n",
            "62/62 [==============================] - 1s 19ms/step - loss: 1.3736 - accuracy: 0.5291 - val_loss: 0.7846 - val_accuracy: 0.8182\n",
            "Epoch 203: early stopping\n"
          ]
        },
        {
          "data": {
            "text/plain": [
              "<keras.callbacks.History at 0x7f91055d9430>"
            ]
          },
          "execution_count": 77,
          "metadata": {},
          "output_type": "execute_result"
        }
      ],
      "source": [
        "model.fit(\n",
        "    X_train,\n",
        "    y_train,\n",
        "    epochs=1000,\n",
        "    batch_size=128,\n",
        "    validation_data=(X_test, y_test),\n",
        "    callbacks=[cp_callback, es_callback]\n",
        ")"
      ]
    },
    {
      "cell_type": "code",
      "execution_count": 78,
      "metadata": {
        "colab": {
          "base_uri": "https://localhost:8080/"
        },
        "id": "pxvb2Y299hE3",
        "outputId": "59eb3185-2e37-4b9e-bc9d-ab1b8ac29b7f"
      },
      "outputs": [
        {
          "name": "stdout",
          "output_type": "stream",
          "text": [
            "21/21 [==============================] - 0s 3ms/step - loss: 0.7846 - accuracy: 0.8182\n"
          ]
        }
      ],
      "source": [
        "# Model evaluation\n",
        "val_loss, val_acc = model.evaluate(X_test, y_test, batch_size=128)"
      ]
    },
    {
      "cell_type": "code",
      "execution_count": 79,
      "metadata": {
        "id": "RBkmDeUW9hE4"
      },
      "outputs": [],
      "source": [
        "# Loading the saved model\n",
        "model = tf.keras.models.load_model(model_save_path)"
      ]
    },
    {
      "cell_type": "code",
      "execution_count": 80,
      "metadata": {
        "colab": {
          "base_uri": "https://localhost:8080/"
        },
        "id": "tFz9Tb0I9hE4",
        "outputId": "1c3b3528-54ae-4ee2-ab04-77429211cbef"
      },
      "outputs": [
        {
          "name": "stdout",
          "output_type": "stream",
          "text": [
            "1/1 [==============================] - 0s 225ms/step\n",
            "[3.56982648e-02 1.13019069e-05 4.60695811e-02 3.70385381e-03\n",
            " 1.23006433e-01 7.00368956e-02 8.46703610e-12 2.30922590e-11\n",
            " 4.75865304e-01 4.90032624e-12 2.06681989e-06 4.98530153e-06\n",
            " 1.98085903e-08 4.57989890e-03 5.76447168e-10 3.82294417e-07\n",
            " 5.56461471e-17 7.97735155e-02 1.70606654e-05 2.00379334e-18\n",
            " 4.24486082e-08 3.97494971e-12 1.10875995e-07 1.08725101e-01\n",
            " 5.11383414e-02 4.50721738e-04 2.41800308e-06 4.76448463e-08\n",
            " 7.24283920e-04 1.89363214e-04]\n",
            "8\n"
          ]
        }
      ],
      "source": [
        "# Inference test\n",
        "predict_result = model.predict(np.array([X_test[0]]))\n",
        "print(np.squeeze(predict_result))\n",
        "print(np.argmax(np.squeeze(predict_result)))"
      ]
    },
    {
      "cell_type": "markdown",
      "metadata": {
        "id": "S3U4yNWx9hE4"
      },
      "source": [
        "# Confusion matrix"
      ]
    },
    {
      "cell_type": "code",
      "execution_count": 81,
      "metadata": {
        "colab": {
          "base_uri": "https://localhost:8080/",
          "height": 582
        },
        "id": "AP1V6SCk9hE5",
        "outputId": "08e41a80-7a4a-4619-8125-ecc371368d19"
      },
      "outputs": [
        {
          "name": "stdout",
          "output_type": "stream",
          "text": [
            "83/83 [==============================] - 0s 4ms/step\n"
          ]
        },
        {
          "data": {
            "image/png": "[encoded data removed]",
            "text/plain": [
              "<Figure size 504x432 with 2 Axes>"
            ]
          },
          "metadata": {
            "needs_background": "light"
          },
          "output_type": "display_data"
        },
        {
          "name": "stdout",
          "output_type": "stream",
          "text": [
            "Classification Report\n",
            "              precision    recall  f1-score   support\n",
            "\n",
            "           0       0.99      0.80      0.89       112\n",
            "           1       0.99      1.00      1.00       143\n",
            "           2       0.87      0.20      0.33        64\n",
            "           3       1.00      0.68      0.81        82\n",
            "           4       0.79      1.00      0.88       102\n",
            "           5       0.64      0.78      0.70        82\n",
            "           6       0.97      0.71      0.82        93\n",
            "           7       0.81      0.99      0.89       126\n",
            "           8       0.86      1.00      0.92        73\n",
            "           9       1.00      0.63      0.78        93\n",
            "          10       0.98      1.00      0.99        90\n",
            "          11       0.92      0.89      0.90       106\n",
            "          12       0.90      0.99      0.94       106\n",
            "          13       0.90      0.97      0.93        63\n",
            "          14       0.96      1.00      0.98       102\n",
            "          15       1.00      0.96      0.98        79\n",
            "          16       0.41      1.00      0.59       107\n",
            "          17       0.80      0.93      0.86       100\n",
            "          18       0.99      0.99      0.99        90\n",
            "          19       0.22      0.15      0.18        97\n",
            "          20       0.86      0.26      0.40        72\n",
            "          21       1.00      1.00      1.00        77\n",
            "          22       0.68      0.77      0.72        95\n",
            "          23       1.00      0.80      0.89        74\n",
            "          24       1.00      1.00      1.00        65\n",
            "          25       0.97      0.50      0.66        66\n",
            "          26       1.00      0.81      0.90        43\n",
            "          27       0.89      1.00      0.94        59\n",
            "          28       0.65      1.00      0.79       117\n",
            "          29       0.00      0.00      0.00        62\n",
            "\n",
            "    accuracy                           0.82      2640\n",
            "   macro avg       0.84      0.79      0.79      2640\n",
            "weighted avg       0.83      0.82      0.80      2640\n",
            "\n"
          ]
        },
        {
          "name": "stderr",
          "output_type": "stream",
          "text": [
            "/opt/anaconda3/lib/python3.8/site-packages/sklearn/metrics/_classification.py:1245: UndefinedMetricWarning: Precision and F-score are ill-defined and being set to 0.0 in labels with no predicted samples. Use `zero_division` parameter to control this behavior.\n",
            "  _warn_prf(average, modifier, msg_start, len(result))\n",
            "/opt/anaconda3/lib/python3.8/site-packages/sklearn/metrics/_classification.py:1245: UndefinedMetricWarning: Precision and F-score are ill-defined and being set to 0.0 in labels with no predicted samples. Use `zero_division` parameter to control this behavior.\n",
            "  _warn_prf(average, modifier, msg_start, len(result))\n",
            "/opt/anaconda3/lib/python3.8/site-packages/sklearn/metrics/_classification.py:1245: UndefinedMetricWarning: Precision and F-score are ill-defined and being set to 0.0 in labels with no predicted samples. Use `zero_division` parameter to control this behavior.\n",
            "  _warn_prf(average, modifier, msg_start, len(result))\n"
          ]
        }
      ],
      "source": [
        "import pandas as pd\n",
        "import seaborn as sns\n",
        "import matplotlib.pyplot as plt\n",
        "from sklearn.metrics import confusion_matrix, classification_report\n",
        "\n",
        "def print_confusion_matrix(y_true, y_pred, report=True):\n",
        "    labels = sorted(list(set(y_true)))\n",
        "    cmx_data = confusion_matrix(y_true, y_pred, labels=labels)\n",
        "    \n",
        "    df_cmx = pd.DataFrame(cmx_data, index=labels, columns=labels)\n",
        " \n",
        "    fig, ax = plt.subplots(figsize=(7, 6))\n",
        "    sns.heatmap(df_cmx, annot=True, fmt='g' ,square=False)\n",
        "    ax.set_ylim(len(set(y_true)), 0)\n",
        "    plt.show()\n",
        "    \n",
        "    if report:\n",
        "        print('Classification Report')\n",
        "        print(classification_report(y_test, y_pred))\n",
        "\n",
        "Y_pred = model.predict(X_test)\n",
        "y_pred = np.argmax(Y_pred, axis=1)\n",
        "\n",
        "print_confusion_matrix(y_test, y_pred)"
      ]
    },
    {
      "cell_type": "markdown",
      "metadata": {
        "id": "FNP6aqzc9hE5"
      },
      "source": [
        "# Convert to model for Tensorflow-Lite"
      ]
    },
    {
      "cell_type": "code",
      "execution_count": 82,
      "metadata": {
        "id": "ODjnYyld9hE6"
      },
      "outputs": [],
      "source": [
        "# Save as a model dedicated to inference\n",
        "model.save(model_save_path, include_optimizer=False)"
      ]
    },
    {
      "cell_type": "code",
      "execution_count": 83,
      "metadata": {
        "colab": {
          "base_uri": "https://localhost:8080/"
        },
        "id": "zRfuK8Y59hE6",
        "outputId": "a4ca585c-b5d5-4244-8291-8674063209bb"
      },
      "outputs": [
        {
          "name": "stdout",
          "output_type": "stream",
          "text": [
            "INFO:tensorflow:Assets written to: /var/folders/8v/nnrlh0k56f96ddx0kkgz894h0000gn/T/tmp6ny1pknz/assets\n"
          ]
        },
        {
          "name": "stderr",
          "output_type": "stream",
          "text": [
            "INFO:tensorflow:Assets written to: /var/folders/8v/nnrlh0k56f96ddx0kkgz894h0000gn/T/tmp6ny1pknz/assets\n"
          ]
        },
        {
          "data": {
            "text/plain": [
              "7684"
            ]
          },
          "execution_count": 83,
          "metadata": {},
          "output_type": "execute_result"
        }
      ],
      "source": [
        "# Transform model (quantization)\n",
        "\n",
        "converter = tf.lite.TFLiteConverter.from_keras_model(model)\n",
        "converter.optimizations = [tf.lite.Optimize.DEFAULT]\n",
        "tflite_quantized_model = converter.convert()\n",
        "\n",
        "open(tflite_save_path, 'wb').write(tflite_quantized_model)"
      ]
    },
    {
      "cell_type": "markdown",
      "metadata": {
        "id": "CHBPBXdx9hE6"
      },
      "source": [
        "# Inference test"
      ]
    },
    {
      "cell_type": "code",
      "execution_count": 84,
      "metadata": {
        "id": "mGAzLocO9hE7"
      },
      "outputs": [],
      "source": [
        "interpreter = tf.lite.Interpreter(model_path=tflite_save_path)\n",
        "interpreter.allocate_tensors()"
      ]
    },
    {
      "cell_type": "code",
      "execution_count": 85,
      "metadata": {
        "id": "oQuDK8YS9hE7"
      },
      "outputs": [],
      "source": [
        "# Get I / O tensor\n",
        "input_details = interpreter.get_input_details()\n",
        "output_details = interpreter.get_output_details()"
      ]
    },
    {
      "cell_type": "code",
      "execution_count": 86,
      "metadata": {
        "id": "2_ixAf_l9hE7"
      },
      "outputs": [],
      "source": [
        "interpreter.set_tensor(input_details[0]['index'], np.array([X_test[0]]))"
      ]
    },
    {
      "cell_type": "code",
      "execution_count": 87,
      "metadata": {
        "colab": {
          "base_uri": "https://localhost:8080/"
        },
        "id": "s4FoAnuc9hE7",
        "outputId": "91f18257-8d8b-4ef3-c558-e9b5f94fabbf",
        "scrolled": true
      },
      "outputs": [
        {
          "name": "stdout",
          "output_type": "stream",
          "text": [
            "CPU times: user 64 µs, sys: 9 µs, total: 73 µs\n",
            "Wall time: 78.9 µs\n"
          ]
        }
      ],
      "source": [
        "%%time\n",
        "# Inference implementation\n",
        "interpreter.invoke()\n",
        "tflite_results = interpreter.get_tensor(output_details[0]['index'])"
      ]
    },
    {
      "cell_type": "code",
      "execution_count": 88,
      "metadata": {
        "colab": {
          "base_uri": "https://localhost:8080/"
        },
        "id": "vONjp19J9hE8",
        "outputId": "77205e24-fd00-42c4-f7b6-e06e527c2cba"
      },
      "outputs": [
        {
          "name": "stdout",
          "output_type": "stream",
          "text": [
            "[3.56982648e-02 1.13019178e-05 4.60695401e-02 3.70385381e-03\n",
            " 1.23006403e-01 7.00368583e-02 8.46703610e-12 2.30922590e-11\n",
            " 4.75865304e-01 4.90034445e-12 2.06681989e-06 4.98531108e-06\n",
            " 1.98086294e-08 4.57989471e-03 5.76447168e-10 3.82294417e-07\n",
            " 5.56459353e-17 7.97735155e-02 1.70606836e-05 2.00380864e-18\n",
            " 4.24486899e-08 3.97496489e-12 1.10876094e-07 1.08725205e-01\n",
            " 5.11383489e-02 4.50722815e-04 2.41800558e-06 4.76450310e-08\n",
            " 7.24284560e-04 1.89363680e-04]\n",
            "8\n"
          ]
        }
      ],
      "source": [
        "print(np.squeeze(tflite_results))\n",
        "print(np.argmax(np.squeeze(tflite_results)))"
      ]
    }
  ],
  "metadata": {
    "accelerator": "GPU",
    "colab": {
      "collapsed_sections": [],
      "name": "keypoint_classification_EN.ipynb",
      "provenance": [],
      "toc_visible": true
    },
    "kernelspec": {
      "display_name": "Python 3.8.8 ('base')",
      "language": "python",
      "name": "python3"
    },
    "language_info": {
      "codemirror_mode": {
        "name": "ipython",
        "version": 3
      },
      "file_extension": ".py",
      "mimetype": "text/x-python",
      "name": "python",
      "nbconvert_exporter": "python",
      "pygments_lexer": "ipython3",
      "version": "3.8.8"
    },
    "vscode": {
      "interpreter": {
        "hash": "40d3a090f54c6569ab1632332b64b2c03c39dcf918b08424e98f38b5ae0af88f"
      }
    }
  },
  "nbformat": 4,
  "nbformat_minor": 0
}
